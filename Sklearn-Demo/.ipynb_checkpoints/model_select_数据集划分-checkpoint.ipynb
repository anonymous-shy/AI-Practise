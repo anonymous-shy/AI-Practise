{
 "cells": [
  {
   "cell_type": "markdown",
   "metadata": {},
   "source": [
    "### KFold"
   ]
  },
  {
   "cell_type": "code",
   "execution_count": 2,
   "metadata": {},
   "outputs": [
    {
     "name": "stdout",
     "output_type": "stream",
     "text": [
      "KFold(n_splits=3, random_state=None, shuffle=False)\n",
      "Train Index:  [2 3 4 5] , Test Index:  [0 1]\n",
      "Train Index:  [0 1 4 5] , Test Index:  [2 3]\n",
      "Train Index:  [0 1 2 3] , Test Index:  [4 5]\n"
     ]
    }
   ],
   "source": [
    "import numpy as np\n",
    "from sklearn.model_selection import KFold\n",
    "X = np.array([[1,2],[3,4],[5,6],[7,8],[9,10],[11,12]])\n",
    "y = np.array([1,2,3,4,5,6])\n",
    "kf = KFold(n_splits=3)\n",
    "kf.get_n_splits(X)\n",
    "print(kf)\n",
    "\n",
    "for train_index, test_index in kf.split(X):\n",
    "    print(\"Train Index: \", train_index, \", Test Index: \", test_index)\n",
    "    X_train, X_test = X[train_index], X[test_index]\n",
    "    y_train, y_test = y[train_index], y[test_index]"
   ]
  },
  {
   "cell_type": "markdown",
   "metadata": {},
   "source": [
    "### GroupKFold"
   ]
  },
  {
   "cell_type": "code",
   "execution_count": 3,
   "metadata": {},
   "outputs": [
    {
     "name": "stdout",
     "output_type": "stream",
     "text": [
      "KFold(n_splits=3, random_state=None, shuffle=False)\n",
      "Train Index:  [0 1 3 4] , Test Index:  [2 5]\n",
      "Train Index:  [0 2 3 5] , Test Index:  [1 4]\n",
      "Train Index:  [1 2 4 5] , Test Index:  [0 3]\n"
     ]
    }
   ],
   "source": [
    "from sklearn.model_selection import GroupKFold\n",
    "X = np.array([[1,2],[3,4],[5,6],[7,8],[9,10],[11,12]])\n",
    "y = np.array([1,2,3,4,5,6])\n",
    "groups = np.array([1,2,3,4,5,6])\n",
    "group_kfold = GroupKFold(n_splits=3)\n",
    "group_kfold.get_n_splits(X,y,groups)\n",
    "print(kf)\n",
    "\n",
    "for train_index, test_index in group_kfold.split(X,y,groups):\n",
    "    print(\"Train Index: \", train_index, \", Test Index: \", test_index)\n",
    "    X_train, X_test = X[train_index], X[test_index]\n",
    "    y_train, y_test = y[train_index], y[test_index]"
   ]
  },
  {
   "cell_type": "markdown",
   "metadata": {},
   "source": [
    "### StratifiedKFold"
   ]
  },
  {
   "cell_type": "code",
   "execution_count": 4,
   "metadata": {},
   "outputs": [
    {
     "name": "stdout",
     "output_type": "stream",
     "text": [
      "KFold(n_splits=3, random_state=None, shuffle=False)\n",
      "Train Index:  [1 2 4 5] , Test Index:  [0 3]\n",
      "Train Index:  [0 2 3 5] , Test Index:  [1 4]\n",
      "Train Index:  [0 1 3 4] , Test Index:  [2 5]\n"
     ]
    }
   ],
   "source": [
    "from sklearn.model_selection import StratifiedKFold\n",
    "X = np.array([[1,2],[3,4],[5,6],[7,8],[9,10],[11,12]])\n",
    "y = np.array([1,1,1,2,2,2])\n",
    "skf = StratifiedKFold(n_splits=3)\n",
    "skf.get_n_splits(X,y)\n",
    "print(kf)\n",
    "\n",
    "for train_index, test_index in skf.split(X,y,groups):\n",
    "    print(\"Train Index: \", train_index, \", Test Index: \", test_index)\n",
    "    X_train, X_test = X[train_index], X[test_index]\n",
    "    y_train, y_test = y[train_index], y[test_index]"
   ]
  },
  {
   "cell_type": "markdown",
   "metadata": {},
   "source": [
    "### LeaveOneOut"
   ]
  },
  {
   "cell_type": "code",
   "execution_count": 5,
   "metadata": {},
   "outputs": [
    {
     "name": "stdout",
     "output_type": "stream",
     "text": [
      "KFold(n_splits=3, random_state=None, shuffle=False)\n",
      "Train Index:  [1 2 3 4 5] , Test Index:  [0]\n",
      "Train Index:  [0 2 3 4 5] , Test Index:  [1]\n",
      "Train Index:  [0 1 3 4 5] , Test Index:  [2]\n",
      "Train Index:  [0 1 2 4 5] , Test Index:  [3]\n",
      "Train Index:  [0 1 2 3 5] , Test Index:  [4]\n",
      "Train Index:  [0 1 2 3 4] , Test Index:  [5]\n"
     ]
    }
   ],
   "source": [
    "from sklearn.model_selection import LeaveOneOut\n",
    "X = np.array([[1,2],[3,4],[5,6],[7,8],[9,10],[11,12]])\n",
    "y = np.array([1,2,3,4,5,6])\n",
    "LOO = LeaveOneOut()\n",
    "LOO.get_n_splits(X)\n",
    "print(kf)\n",
    "\n",
    "for train_index, test_index in LOO.split(X,y,groups):\n",
    "    print(\"Train Index: \", train_index, \", Test Index: \", test_index)\n",
    "    X_train, X_test = X[train_index], X[test_index]\n",
    "    y_train, y_test = y[train_index], y[test_index]"
   ]
  },
  {
   "cell_type": "markdown",
   "metadata": {},
   "source": [
    "### LeavePOut "
   ]
  },
  {
   "cell_type": "code",
   "execution_count": 6,
   "metadata": {},
   "outputs": [
    {
     "name": "stdout",
     "output_type": "stream",
     "text": [
      "KFold(n_splits=3, random_state=None, shuffle=False)\n",
      "Train Index:  [3 4 5] , Test Index:  [0 1 2]\n",
      "Train Index:  [2 4 5] , Test Index:  [0 1 3]\n",
      "Train Index:  [2 3 5] , Test Index:  [0 1 4]\n",
      "Train Index:  [2 3 4] , Test Index:  [0 1 5]\n",
      "Train Index:  [1 4 5] , Test Index:  [0 2 3]\n",
      "Train Index:  [1 3 5] , Test Index:  [0 2 4]\n",
      "Train Index:  [1 3 4] , Test Index:  [0 2 5]\n",
      "Train Index:  [1 2 5] , Test Index:  [0 3 4]\n",
      "Train Index:  [1 2 4] , Test Index:  [0 3 5]\n",
      "Train Index:  [1 2 3] , Test Index:  [0 4 5]\n",
      "Train Index:  [0 4 5] , Test Index:  [1 2 3]\n",
      "Train Index:  [0 3 5] , Test Index:  [1 2 4]\n",
      "Train Index:  [0 3 4] , Test Index:  [1 2 5]\n",
      "Train Index:  [0 2 5] , Test Index:  [1 3 4]\n",
      "Train Index:  [0 2 4] , Test Index:  [1 3 5]\n",
      "Train Index:  [0 2 3] , Test Index:  [1 4 5]\n",
      "Train Index:  [0 1 5] , Test Index:  [2 3 4]\n",
      "Train Index:  [0 1 4] , Test Index:  [2 3 5]\n",
      "Train Index:  [0 1 3] , Test Index:  [2 4 5]\n",
      "Train Index:  [0 1 2] , Test Index:  [3 4 5]\n"
     ]
    }
   ],
   "source": [
    "from sklearn.model_selection import LeavePOut\n",
    "X = np.array([[1,2],[3,4],[5,6],[7,8],[9,10],[11,12]])\n",
    "y = np.array([1,2,3,4,5,6])\n",
    "LPO = LeavePOut(p=3)\n",
    "LPO.get_n_splits(X)\n",
    "print(kf)\n",
    "\n",
    "for train_index, test_index in LPO.split(X,y,groups):\n",
    "    print(\"Train Index: \", train_index, \", Test Index: \", test_index)\n",
    "    X_train, X_test = X[train_index], X[test_index]\n",
    "    y_train, y_test = y[train_index], y[test_index]"
   ]
  },
  {
   "cell_type": "code",
   "execution_count": null,
   "metadata": {},
   "outputs": [],
   "source": [
    "### "
   ]
  },
  {
   "cell_type": "code",
   "execution_count": 8,
   "metadata": {},
   "outputs": [
    {
     "name": "stdout",
     "output_type": "stream",
     "text": [
      "KFold(n_splits=3, random_state=None, shuffle=False)\n",
      "Train Index:  [3 4 5] , Test Index:  [0 1 2]\n",
      "Train Index:  [2 4 5] , Test Index:  [0 1 3]\n",
      "Train Index:  [2 3 5] , Test Index:  [0 1 4]\n",
      "Train Index:  [2 3 4] , Test Index:  [0 1 5]\n",
      "Train Index:  [1 4 5] , Test Index:  [0 2 3]\n",
      "Train Index:  [1 3 5] , Test Index:  [0 2 4]\n",
      "Train Index:  [1 3 4] , Test Index:  [0 2 5]\n",
      "Train Index:  [1 2 5] , Test Index:  [0 3 4]\n",
      "Train Index:  [1 2 4] , Test Index:  [0 3 5]\n",
      "Train Index:  [1 2 3] , Test Index:  [0 4 5]\n",
      "Train Index:  [0 4 5] , Test Index:  [1 2 3]\n",
      "Train Index:  [0 3 5] , Test Index:  [1 2 4]\n",
      "Train Index:  [0 3 4] , Test Index:  [1 2 5]\n",
      "Train Index:  [0 2 5] , Test Index:  [1 3 4]\n",
      "Train Index:  [0 2 4] , Test Index:  [1 3 5]\n",
      "Train Index:  [0 2 3] , Test Index:  [1 4 5]\n",
      "Train Index:  [0 1 5] , Test Index:  [2 3 4]\n",
      "Train Index:  [0 1 4] , Test Index:  [2 3 5]\n",
      "Train Index:  [0 1 3] , Test Index:  [2 4 5]\n",
      "Train Index:  [0 1 2] , Test Index:  [3 4 5]\n",
      "**************************************************\n",
      "KFold(n_splits=3, random_state=None, shuffle=False)\n",
      "Train Index:  [3 4 5] , Test Index:  [0 1 2]\n",
      "Train Index:  [2 4 5] , Test Index:  [0 1 3]\n",
      "Train Index:  [2 3 5] , Test Index:  [0 1 4]\n",
      "Train Index:  [2 3 4] , Test Index:  [0 1 5]\n",
      "Train Index:  [1 4 5] , Test Index:  [0 2 3]\n",
      "Train Index:  [1 3 5] , Test Index:  [0 2 4]\n",
      "Train Index:  [1 3 4] , Test Index:  [0 2 5]\n",
      "Train Index:  [1 2 5] , Test Index:  [0 3 4]\n",
      "Train Index:  [1 2 4] , Test Index:  [0 3 5]\n",
      "Train Index:  [1 2 3] , Test Index:  [0 4 5]\n",
      "Train Index:  [0 4 5] , Test Index:  [1 2 3]\n",
      "Train Index:  [0 3 5] , Test Index:  [1 2 4]\n",
      "Train Index:  [0 3 4] , Test Index:  [1 2 5]\n",
      "Train Index:  [0 2 5] , Test Index:  [1 3 4]\n",
      "Train Index:  [0 2 4] , Test Index:  [1 3 5]\n",
      "Train Index:  [0 2 3] , Test Index:  [1 4 5]\n",
      "Train Index:  [0 1 5] , Test Index:  [2 3 4]\n",
      "Train Index:  [0 1 4] , Test Index:  [2 3 5]\n",
      "Train Index:  [0 1 3] , Test Index:  [2 4 5]\n",
      "Train Index:  [0 1 2] , Test Index:  [3 4 5]\n"
     ]
    }
   ],
   "source": [
    "from sklearn.model_selection import ShuffleSplit\n",
    "X = np.array([[1,2],[3,4],[5,6],[7,8],[9,10],[11,12]])\n",
    "y = np.array([1,2,1,2,1,2])\n",
    "rs = ShuffleSplit(n_splits=3,test_size=.25,random_state=0)\n",
    "rs.get_n_splits(X)\n",
    "print(kf)\n",
    "for train_index, test_index in LPO.split(X,y,groups):\n",
    "    print(\"Train Index: \", train_index, \", Test Index: \", test_index)\n",
    "    \n",
    "print('*' * 50)\n",
    "rs = ShuffleSplit(n_splits=3,train_size=.5,test_size=.25,random_state=0)\n",
    "rs.get_n_splits(X)\n",
    "print(kf)\n",
    "for train_index, test_index in LPO.split(X,y,groups):\n",
    "    print(\"Train Index: \", train_index, \", Test Index: \", test_index)"
   ]
  },
  {
   "cell_type": "code",
   "execution_count": null,
   "metadata": {},
   "outputs": [],
   "source": []
  }
 ],
 "metadata": {
  "kernelspec": {
   "display_name": "Python 3",
   "language": "python",
   "name": "python3"
  },
  "language_info": {
   "codemirror_mode": {
    "name": "ipython",
    "version": 3
   },
   "file_extension": ".py",
   "mimetype": "text/x-python",
   "name": "python",
   "nbconvert_exporter": "python",
   "pygments_lexer": "ipython3",
   "version": "3.7.4"
  },
  "toc": {
   "base_numbering": 1,
   "nav_menu": {},
   "number_sections": true,
   "sideBar": true,
   "skip_h1_title": false,
   "title_cell": "Table of Contents",
   "title_sidebar": "Contents",
   "toc_cell": false,
   "toc_position": {},
   "toc_section_display": true,
   "toc_window_display": false
  }
 },
 "nbformat": 4,
 "nbformat_minor": 2
}
