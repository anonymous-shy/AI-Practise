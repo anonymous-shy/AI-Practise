{
 "cells": [
  {
   "cell_type": "markdown",
   "metadata": {},
   "source": [
    "### GridSearchCV"
   ]
  },
  {
   "cell_type": "code",
   "execution_count": 2,
   "metadata": {},
   "outputs": [
    {
     "name": "stderr",
     "output_type": "stream",
     "text": [
      "/opt/anaconda3/lib/python3.7/site-packages/sklearn/model_selection/_split.py:1978: FutureWarning: The default value of cv will change from 3 to 5 in version 0.22. Specify it explicitly to silence this warning.\n",
      "  warnings.warn(CV_WARNING, FutureWarning)\n",
      "/opt/anaconda3/lib/python3.7/site-packages/sklearn/svm/base.py:193: FutureWarning: The default value of gamma will change from 'auto' to 'scale' in version 0.22 to account better for unscaled features. Set gamma explicitly to 'auto' or 'scale' to avoid this warning.\n",
      "  \"avoid this warning.\", FutureWarning)\n",
      "/opt/anaconda3/lib/python3.7/site-packages/sklearn/svm/base.py:193: FutureWarning: The default value of gamma will change from 'auto' to 'scale' in version 0.22 to account better for unscaled features. Set gamma explicitly to 'auto' or 'scale' to avoid this warning.\n",
      "  \"avoid this warning.\", FutureWarning)\n",
      "/opt/anaconda3/lib/python3.7/site-packages/sklearn/svm/base.py:193: FutureWarning: The default value of gamma will change from 'auto' to 'scale' in version 0.22 to account better for unscaled features. Set gamma explicitly to 'auto' or 'scale' to avoid this warning.\n",
      "  \"avoid this warning.\", FutureWarning)\n",
      "/opt/anaconda3/lib/python3.7/site-packages/sklearn/svm/base.py:193: FutureWarning: The default value of gamma will change from 'auto' to 'scale' in version 0.22 to account better for unscaled features. Set gamma explicitly to 'auto' or 'scale' to avoid this warning.\n",
      "  \"avoid this warning.\", FutureWarning)\n",
      "/opt/anaconda3/lib/python3.7/site-packages/sklearn/svm/base.py:193: FutureWarning: The default value of gamma will change from 'auto' to 'scale' in version 0.22 to account better for unscaled features. Set gamma explicitly to 'auto' or 'scale' to avoid this warning.\n",
      "  \"avoid this warning.\", FutureWarning)\n",
      "/opt/anaconda3/lib/python3.7/site-packages/sklearn/svm/base.py:193: FutureWarning: The default value of gamma will change from 'auto' to 'scale' in version 0.22 to account better for unscaled features. Set gamma explicitly to 'auto' or 'scale' to avoid this warning.\n",
      "  \"avoid this warning.\", FutureWarning)\n",
      "/opt/anaconda3/lib/python3.7/site-packages/sklearn/svm/base.py:193: FutureWarning: The default value of gamma will change from 'auto' to 'scale' in version 0.22 to account better for unscaled features. Set gamma explicitly to 'auto' or 'scale' to avoid this warning.\n",
      "  \"avoid this warning.\", FutureWarning)\n",
      "/opt/anaconda3/lib/python3.7/site-packages/sklearn/svm/base.py:193: FutureWarning: The default value of gamma will change from 'auto' to 'scale' in version 0.22 to account better for unscaled features. Set gamma explicitly to 'auto' or 'scale' to avoid this warning.\n",
      "  \"avoid this warning.\", FutureWarning)\n",
      "/opt/anaconda3/lib/python3.7/site-packages/sklearn/svm/base.py:193: FutureWarning: The default value of gamma will change from 'auto' to 'scale' in version 0.22 to account better for unscaled features. Set gamma explicitly to 'auto' or 'scale' to avoid this warning.\n",
      "  \"avoid this warning.\", FutureWarning)\n"
     ]
    },
    {
     "data": {
      "text/plain": [
       "SVC(C=1, cache_size=200, class_weight=None, coef0=0.0,\n",
       "    decision_function_shape='ovr', degree=3, gamma='auto_deprecated',\n",
       "    kernel='linear', max_iter=-1, probability=False, random_state=None,\n",
       "    shrinking=True, tol=0.001, verbose=False)"
      ]
     },
     "execution_count": 2,
     "metadata": {},
     "output_type": "execute_result"
    }
   ],
   "source": [
    "from sklearn import datasets, svm\n",
    "from sklearn.model_selection import GridSearchCV\n",
    "iris = datasets.load_iris()\n",
    "\n",
    "# 定义参数网格，2*3=6个参数组合\n",
    "params = {'kernel':('rbf','linear'), 'C':[1,5,10]}\n",
    "svc = svm.SVC()\n",
    "clf = GridSearchCV(estimator=svc, param_grid=params)\n",
    "clf.fit(iris.data, iris.target)\n",
    "clf.best_estimator_"
   ]
  },
  {
   "cell_type": "markdown",
   "metadata": {},
   "source": [
    "### RandomizedSearchCV"
   ]
  },
  {
   "cell_type": "code",
   "execution_count": 4,
   "metadata": {},
   "outputs": [
    {
     "name": "stderr",
     "output_type": "stream",
     "text": [
      "/opt/anaconda3/lib/python3.7/site-packages/sklearn/model_selection/_split.py:1978: FutureWarning: The default value of cv will change from 3 to 5 in version 0.22. Specify it explicitly to silence this warning.\n",
      "  warnings.warn(CV_WARNING, FutureWarning)\n"
     ]
    },
    {
     "name": "stdout",
     "output_type": "stream",
     "text": [
      "RandomizedSearchCV took 2.64 seconds for 20 candidates params settings\n",
      "Model with rank: 1\n",
      "Mean valdation score: 0.929 (std: 0.005)\n",
      "Params: {'bootstrap': False, 'criterion': 'gini', 'max_depth': None, 'max_features': 4, 'min_samples_leaf': 3, 'min_samples_split': 3}\n",
      "\n",
      "Model with rank: 2\n",
      "Mean valdation score: 0.928 (std: 0.016)\n",
      "Params: {'bootstrap': False, 'criterion': 'gini', 'max_depth': None, 'max_features': 8, 'min_samples_leaf': 2, 'min_samples_split': 5}\n",
      "\n",
      "Model with rank: 3\n",
      "Mean valdation score: 0.924 (std: 0.016)\n",
      "Params: {'bootstrap': True, 'criterion': 'gini', 'max_depth': None, 'max_features': 10, 'min_samples_leaf': 3, 'min_samples_split': 5}\n",
      "\n"
     ]
    }
   ],
   "source": [
    "import numpy as np\n",
    "from time import time\n",
    "from scipy.stats import randint as sp_randint\n",
    "from sklearn.model_selection import RandomizedSearchCV\n",
    "from sklearn.datasets import load_digits\n",
    "from sklearn.ensemble import RandomForestClassifier\n",
    "\n",
    "# 用于报告超参数搜索的最好结果\n",
    "def report(results, n_top=3):\n",
    "    for i in range(1, n_top + 1):\n",
    "        candidates = np.flatnonzero(results['rank_test_score'] == i)\n",
    "        for candidate in candidates:\n",
    "            print(\"Model with rank: {0}\".format(i))\n",
    "            print(\"Mean valdation score: {0:.3f} (std: {1:.3f})\".format(\n",
    "                results['mean_test_score'][candidate],\n",
    "                results['std_test_score'][candidate]))\n",
    "            print(\"Params: {0}\".format(results['params'][candidate]))\n",
    "            print(\"\")\n",
    "            \n",
    "# 获取数据\n",
    "digits = load_digits()\n",
    "X, y = digits.data, digits.target\n",
    "# 构建一个分类起\n",
    "clf = RandomForestClassifier(n_estimators=20)\n",
    "# 超参数以及取值分布\n",
    "param_dist = {\"max_depth\": [3, None],\n",
    "             \"max_features\": sp_randint(1,11),\n",
    "             \"min_samples_split\": sp_randint(2,11),\n",
    "             \"min_samples_leaf\": sp_randint(1,11),\n",
    "             \"bootstrap\": [True, False],\n",
    "             \"criterion\": [\"gini\",\"entropy\"]}\n",
    "\n",
    "# 开启超参数空间随机搜索\n",
    "n_iter_search = 20\n",
    "random_search = RandomizedSearchCV(estimator=clf,param_distributions=param_dist,n_iter=n_iter_search)\n",
    "start = time()\n",
    "random_search.fit(X, y)\n",
    "print(\"RandomizedSearchCV took %.2f seconds for %d candidates params settings\"\n",
    "     % ((time()-start), n_iter_search))\n",
    "\n",
    "report(random_search.cv_results_)"
   ]
  },
  {
   "cell_type": "markdown",
   "metadata": {},
   "source": [
    "### 超参数优化中随机搜索和网格搜索的对比实验"
   ]
  },
  {
   "cell_type": "markdown",
   "metadata": {},
   "source": [
    "以随机森林分类起为优化对象，所有影响分类起的参数都被搜索了，除了树的数量以外，随机搜索和网格搜索都在同一个超参数空间对随机森领分类起进行优化。虽然超参数设置组合比较相似，但是随机搜索的运行时间明显比网格搜索要少。随机搜索得到的超参数组合性能稍差一些，但很大程度是由噪声引起的。在实际工程中，一般只选择几个比较重要的参数组合进行优化。"
   ]
  },
  {
   "cell_type": "code",
   "execution_count": 5,
   "metadata": {},
   "outputs": [
    {
     "name": "stdout",
     "output_type": "stream",
     "text": [
      ">>>>RandomizedSearchCV测试结果<<<<\n"
     ]
    },
    {
     "name": "stderr",
     "output_type": "stream",
     "text": [
      "/opt/anaconda3/lib/python3.7/site-packages/sklearn/model_selection/_split.py:1978: FutureWarning: The default value of cv will change from 3 to 5 in version 0.22. Specify it explicitly to silence this warning.\n",
      "  warnings.warn(CV_WARNING, FutureWarning)\n"
     ]
    },
    {
     "name": "stdout",
     "output_type": "stream",
     "text": [
      "RandomizedSearchCV took 2.66 seconds for 20 candidates params settings\n",
      "Model with rank: 1\n",
      "Mean valdation score: 0.928 (std: 0.012)\n",
      "Params: {'bootstrap': False, 'criterion': 'gini', 'max_depth': None, 'max_features': 10, 'min_samples_leaf': 1, 'min_samples_split': 3}\n",
      "\n",
      "Model with rank: 2\n",
      "Mean valdation score: 0.926 (std: 0.009)\n",
      "Params: {'bootstrap': False, 'criterion': 'gini', 'max_depth': None, 'max_features': 7, 'min_samples_leaf': 3, 'min_samples_split': 6}\n",
      "\n",
      "Model with rank: 3\n",
      "Mean valdation score: 0.919 (std: 0.004)\n",
      "Params: {'bootstrap': False, 'criterion': 'gini', 'max_depth': None, 'max_features': 6, 'min_samples_leaf': 4, 'min_samples_split': 10}\n",
      "\n",
      ">>>>GridSearchCV测试结果<<<<\n"
     ]
    },
    {
     "name": "stderr",
     "output_type": "stream",
     "text": [
      "/opt/anaconda3/lib/python3.7/site-packages/sklearn/model_selection/_split.py:1978: FutureWarning: The default value of cv will change from 3 to 5 in version 0.22. Specify it explicitly to silence this warning.\n",
      "  warnings.warn(CV_WARNING, FutureWarning)\n"
     ]
    },
    {
     "name": "stdout",
     "output_type": "stream",
     "text": [
      "GridSearchCV took 29.36 seconds for 20 candidates params settings\n",
      "Model with rank: 1\n",
      "Mean valdation score: 0.934 (std: 0.007)\n",
      "Params: {'bootstrap': False, 'criterion': 'entropy', 'max_depth': None, 'max_features': 10, 'min_samples_leaf': 1, 'min_samples_split': 3}\n",
      "\n",
      "Model with rank: 2\n",
      "Mean valdation score: 0.931 (std: 0.013)\n",
      "Params: {'bootstrap': True, 'criterion': 'entropy', 'max_depth': None, 'max_features': 10, 'min_samples_leaf': 1, 'min_samples_split': 2}\n",
      "\n",
      "Model with rank: 3\n",
      "Mean valdation score: 0.930 (std: 0.008)\n",
      "Params: {'bootstrap': True, 'criterion': 'gini', 'max_depth': None, 'max_features': 3, 'min_samples_leaf': 1, 'min_samples_split': 2}\n",
      "\n"
     ]
    }
   ],
   "source": [
    "import numpy as np\n",
    "from time import time\n",
    "from scipy.stats import randint as sp_randint\n",
    "from sklearn.model_selection import RandomizedSearchCV, GridSearchCV\n",
    "from sklearn.datasets import load_digits\n",
    "from sklearn.ensemble import RandomForestClassifier\n",
    "\n",
    "# 用于报告超参数搜索的最好结果\n",
    "def report(results, n_top=3):\n",
    "    for i in range(1, n_top + 1):\n",
    "        candidates = np.flatnonzero(results['rank_test_score'] == i)\n",
    "        for candidate in candidates:\n",
    "            print(\"Model with rank: {0}\".format(i))\n",
    "            print(\"Mean valdation score: {0:.3f} (std: {1:.3f})\".format(\n",
    "                results['mean_test_score'][candidate],\n",
    "                results['std_test_score'][candidate]))\n",
    "            print(\"Params: {0}\".format(results['params'][candidate]))\n",
    "            print(\"\")\n",
    "            \n",
    "# 获取数据\n",
    "digits = load_digits()\n",
    "X, y = digits.data, digits.target\n",
    "# 构建一个分类起\n",
    "clf = RandomForestClassifier(n_estimators=20)\n",
    "\n",
    "print(\">>>>RandomizedSearchCV测试结果<<<<\")\n",
    "# 超参数以及取值分布\n",
    "param_dist = {\"max_depth\": [3, None],\n",
    "             \"max_features\": sp_randint(1,11),\n",
    "             \"min_samples_split\": sp_randint(2,11),\n",
    "             \"min_samples_leaf\": sp_randint(1,11),\n",
    "             \"bootstrap\": [True, False],\n",
    "             \"criterion\": [\"gini\",\"entropy\"]}\n",
    "\n",
    "# 开启超参数空间随机搜索\n",
    "n_iter_search = 20\n",
    "random_search = RandomizedSearchCV(estimator=clf,param_distributions=param_dist,n_iter=n_iter_search)\n",
    "start = time()\n",
    "random_search.fit(X, y)\n",
    "print(\"RandomizedSearchCV took %.2f seconds for %d candidates params settings\"\n",
    "     % ((time()-start), n_iter_search))\n",
    "\n",
    "report(random_search.cv_results_)\n",
    "\n",
    "print(\">>>>GridSearchCV测试结果<<<<\")\n",
    "params_grid = {\"max_depth\": [3, None],\n",
    "             \"max_features\": [1,3,10],\n",
    "             \"min_samples_split\": [2,3,10],\n",
    "             \"min_samples_leaf\": [1,3,10],\n",
    "             \"bootstrap\": [True, False],\n",
    "             \"criterion\": [\"gini\",\"entropy\"]}\n",
    "\n",
    "# 开启超参数空间网格搜索\n",
    "grid_search = GridSearchCV(estimator=clf,param_grid=params_grid)\n",
    "start = time()\n",
    "grid_search.fit(X, y)\n",
    "print(\"GridSearchCV took %.2f seconds for %d candidates params settings\"\n",
    "     % ((time()-start), n_iter_search))\n",
    "report(grid_search.cv_results_)"
   ]
  },
  {
   "cell_type": "code",
   "execution_count": null,
   "metadata": {},
   "outputs": [],
   "source": []
  }
 ],
 "metadata": {
  "kernelspec": {
   "display_name": "Python 3",
   "language": "python",
   "name": "python3"
  },
  "language_info": {
   "codemirror_mode": {
    "name": "ipython",
    "version": 3
   },
   "file_extension": ".py",
   "mimetype": "text/x-python",
   "name": "python",
   "nbconvert_exporter": "python",
   "pygments_lexer": "ipython3",
   "version": "3.7.5"
  },
  "toc": {
   "base_numbering": 1,
   "nav_menu": {},
   "number_sections": true,
   "sideBar": true,
   "skip_h1_title": false,
   "title_cell": "Table of Contents",
   "title_sidebar": "Contents",
   "toc_cell": false,
   "toc_position": {},
   "toc_section_display": true,
   "toc_window_display": false
  }
 },
 "nbformat": 4,
 "nbformat_minor": 2
}
