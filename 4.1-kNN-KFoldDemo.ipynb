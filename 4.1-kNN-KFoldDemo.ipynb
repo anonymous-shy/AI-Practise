{
 "cells": [
  {
   "cell_type": "code",
   "execution_count": 8,
   "metadata": {},
   "outputs": [],
   "source": [
    "import numpy as np\n",
    "from sklearn import datasets\n",
    "from sklearn.neighbors import KNeighborsClassifier\n",
    "from sklearn.model_selection import KFold # 主要用于K折交叉验证\n",
    "from sklearn.model_selection import GridSearchCV # 通过网格方式来搜索参数"
   ]
  },
  {
   "cell_type": "markdown",
   "metadata": {},
   "source": [
    "### 手写交叉验证"
   ]
  },
  {
   "cell_type": "code",
   "execution_count": 2,
   "metadata": {},
   "outputs": [
    {
     "name": "stdout",
     "output_type": "stream",
     "text": [
      "(150, 4) (150,)\n"
     ]
    }
   ],
   "source": [
    "# 以下是导入iris数据集\n",
    "iris = datasets.load_iris()\n",
    "X = iris.data\n",
    "y = iris.target\n",
    "print(X.shape, y.shape)"
   ]
  },
  {
   "cell_type": "code",
   "execution_count": 3,
   "metadata": {},
   "outputs": [],
   "source": [
    "# 定义想要搜索的K值（候选集），这里定义8个不同的值\n",
    "ksets = [1,3,5,7,9,11,13,15]"
   ]
  },
  {
   "cell_type": "code",
   "execution_count": 4,
   "metadata": {},
   "outputs": [],
   "source": [
    "# 进行5折交叉验证，KFlod返回的是每一折中训练数据和验证数据的index\n",
    "kf = KFold(n_splits=5, shuffle=True, random_state=1999)"
   ]
  },
  {
   "cell_type": "code",
   "execution_count": 5,
   "metadata": {},
   "outputs": [],
   "source": [
    "# 初始化保存当前最好的K值和对应的准确率值\n",
    "best_k = ksets[0]\n",
    "best_score = 0"
   ]
  },
  {
   "cell_type": "code",
   "execution_count": 6,
   "metadata": {},
   "outputs": [
    {
     "name": "stdout",
     "output_type": "stream",
     "text": [
      "current best score is: 0.97 .best K is 1\n",
      "current best score is: 0.97 .best K is 3\n",
      "current best score is: 0.97 .best K is 3\n",
      "current best score is: 0.97 .best K is 3\n",
      "current best score is: 0.97 .best K is 3\n",
      "current best score is: 0.97 .best K is 3\n",
      "current best score is: 0.97 .best K is 3\n",
      "current best score is: 0.97 .best K is 3\n"
     ]
    }
   ],
   "source": [
    "# 循环每一个K值进行K折交叉验证\n",
    "for k in ksets:\n",
    "    curr_score = 0\n",
    "    for train_index, valid_index in kf.split(X):\n",
    "        # 每一折的训练以及计算准确率\n",
    "        clf = KNeighborsClassifier(n_neighbors=k)\n",
    "        clf.fit(X[train_index], y[train_index])\n",
    "        curr_score = curr_score + clf.score(X[valid_index], y[valid_index])\n",
    "    # 求5折的平均得分\n",
    "    avg_score = curr_score / 5\n",
    "    if avg_score > best_score:\n",
    "        best_k = k\n",
    "        best_score = avg_score\n",
    "    print(\"current best score is: %.2f\" % best_score, \".best K is %d\" % best_k)"
   ]
  },
  {
   "cell_type": "code",
   "execution_count": 7,
   "metadata": {},
   "outputs": [
    {
     "name": "stdout",
     "output_type": "stream",
     "text": [
      "after cross validtion, the final best k is: 3\n"
     ]
    }
   ],
   "source": [
    "print(\"after cross validtion, the final best k is: %d\" % best_k)"
   ]
  },
  {
   "cell_type": "markdown",
   "metadata": {},
   "source": [
    "### 调用sklean"
   ]
  },
  {
   "cell_type": "code",
   "execution_count": 10,
   "metadata": {},
   "outputs": [],
   "source": [
    "# 设置需要搜索的K值集合，\n",
    "parameters = {'n_neighbors': [1,3,5,7,9,11,13,15]}\n",
    "knn = KNeighborsClassifier()"
   ]
  },
  {
   "cell_type": "code",
   "execution_count": 11,
   "metadata": {},
   "outputs": [
    {
     "data": {
      "text/plain": [
       "GridSearchCV(cv=5, error_score='raise-deprecating',\n",
       "             estimator=KNeighborsClassifier(algorithm='auto', leaf_size=30,\n",
       "                                            metric='minkowski',\n",
       "                                            metric_params=None, n_jobs=None,\n",
       "                                            n_neighbors=5, p=2,\n",
       "                                            weights='uniform'),\n",
       "             iid='warn', n_jobs=None,\n",
       "             param_grid={'n_neighbors': [1, 3, 5, 7, 9, 11, 13, 15]},\n",
       "             pre_dispatch='2*n_jobs', refit=True, return_train_score=False,\n",
       "             scoring=None, verbose=0)"
      ]
     },
     "execution_count": 11,
     "metadata": {},
     "output_type": "execute_result"
    }
   ],
   "source": [
    "# 通过GridSearchCV来搜索最好的K值，这个模块的内部实现就是对每一个K值做了评估\n",
    "clf = GridSearchCV(estimator=knn, param_grid=parameters, cv=5)\n",
    "clf.fit(X, y)"
   ]
  },
  {
   "cell_type": "code",
   "execution_count": 12,
   "metadata": {},
   "outputs": [
    {
     "name": "stdout",
     "output_type": "stream",
     "text": [
      "best score is: 0.98 best K is {'n_neighbors': 7}\n"
     ]
    }
   ],
   "source": [
    "print(\"best score is: %.2f\" % clf.best_score_, \"best K is %s\" % clf.best_params_)"
   ]
  },
  {
   "cell_type": "code",
   "execution_count": null,
   "metadata": {},
   "outputs": [],
   "source": []
  }
 ],
 "metadata": {
  "kernelspec": {
   "display_name": "Python 3",
   "language": "python",
   "name": "python3"
  },
  "language_info": {
   "codemirror_mode": {
    "name": "ipython",
    "version": 3
   },
   "file_extension": ".py",
   "mimetype": "text/x-python",
   "name": "python",
   "nbconvert_exporter": "python",
   "pygments_lexer": "ipython3",
   "version": "3.7.4"
  }
 },
 "nbformat": 4,
 "nbformat_minor": 2
}
