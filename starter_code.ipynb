{
 "cells": [
  {
   "cell_type": "markdown",
   "metadata": {},
   "source": [
    "### 股票预测项目\n",
    "本项目的目的是通过股票的历史行情价格来预测未来某只股票的涨跌。 问题本身其实就是二分类问题。数据是通过```tushare```库来获取到的，在压缩包里已经给出了一只股票的数据。本作业的目的是：\n",
    "1. 根据已经给定的数据，构造出样本数据。在样本数据的构造过程我们需要使用特征工程，这个特征工程其实就是技术指标的提取。 \n",
    "2. 提取完技术指标之后，做一些简单的数据处理\n",
    "3. 构造训练数据和测试数据\n",
    "4. 利用随机森立学习二分类器\n",
    "\n",
    "本项目的重点是技术指标的提取，但为了方便大家，这些指标已经写好，建议可以去看一下每一个技术指标是如何定义的。\n",
    "\n",
    "预估项目完成时间： 2小时"
   ]
  },
  {
   "cell_type": "markdown",
   "metadata": {},
   "source": []
  },
  {
   "cell_type": "code",
   "execution_count": 1,
   "metadata": {},
   "outputs": [],
   "source": [
    "# 导入相应的函数库\n",
    "import pandas as pd\n",
    "import datetime\n",
    "import numpy as np\n",
    "from sklearn.model_selection import train_test_split\n",
    "from sklearn.ensemble import RandomForestClassifier\n",
    "from sklearn.metrics import f1_score\n",
    "import matplotlib.pyplot as plt\n",
    "\n",
    "# 技术指标的提取函数\n",
    "from technical_indicators import *"
   ]
  },
  {
   "cell_type": "code",
   "execution_count": 2,
   "metadata": {},
   "outputs": [
    {
     "data": {
      "text/html": [
       "<div>\n",
       "<style scoped>\n",
       "    .dataframe tbody tr th:only-of-type {\n",
       "        vertical-align: middle;\n",
       "    }\n",
       "\n",
       "    .dataframe tbody tr th {\n",
       "        vertical-align: top;\n",
       "    }\n",
       "\n",
       "    .dataframe thead th {\n",
       "        text-align: right;\n",
       "    }\n",
       "</style>\n",
       "<table border=\"1\" class=\"dataframe\">\n",
       "  <thead>\n",
       "    <tr style=\"text-align: right;\">\n",
       "      <th></th>\n",
       "      <th>date</th>\n",
       "      <th>open</th>\n",
       "      <th>high</th>\n",
       "      <th>close</th>\n",
       "      <th>low</th>\n",
       "      <th>volume</th>\n",
       "      <th>price_change</th>\n",
       "      <th>p_change</th>\n",
       "      <th>ma5</th>\n",
       "      <th>ma10</th>\n",
       "      <th>ma20</th>\n",
       "      <th>v_ma5</th>\n",
       "      <th>v_ma10</th>\n",
       "      <th>v_ma20</th>\n",
       "    </tr>\n",
       "  </thead>\n",
       "  <tbody>\n",
       "    <tr>\n",
       "      <td>0</td>\n",
       "      <td>2019-09-12</td>\n",
       "      <td>1066.00</td>\n",
       "      <td>1109.98</td>\n",
       "      <td>1099.00</td>\n",
       "      <td>1066.00</td>\n",
       "      <td>41211.33</td>\n",
       "      <td>29.48</td>\n",
       "      <td>2.76</td>\n",
       "      <td>1114.276</td>\n",
       "      <td>1126.115</td>\n",
       "      <td>1108.345</td>\n",
       "      <td>40942.17</td>\n",
       "      <td>37385.21</td>\n",
       "      <td>37563.02</td>\n",
       "    </tr>\n",
       "    <tr>\n",
       "      <td>1</td>\n",
       "      <td>2019-09-11</td>\n",
       "      <td>1119.22</td>\n",
       "      <td>1119.97</td>\n",
       "      <td>1069.52</td>\n",
       "      <td>1068.00</td>\n",
       "      <td>81716.54</td>\n",
       "      <td>-54.33</td>\n",
       "      <td>-4.83</td>\n",
       "      <td>1123.276</td>\n",
       "      <td>1127.525</td>\n",
       "      <td>1105.640</td>\n",
       "      <td>39286.08</td>\n",
       "      <td>36197.12</td>\n",
       "      <td>36864.33</td>\n",
       "    </tr>\n",
       "    <tr>\n",
       "      <td>2</td>\n",
       "      <td>2019-09-10</td>\n",
       "      <td>1134.30</td>\n",
       "      <td>1135.00</td>\n",
       "      <td>1123.85</td>\n",
       "      <td>1120.01</td>\n",
       "      <td>26227.07</td>\n",
       "      <td>-12.67</td>\n",
       "      <td>-1.11</td>\n",
       "      <td>1134.374</td>\n",
       "      <td>1130.584</td>\n",
       "      <td>1104.330</td>\n",
       "      <td>29662.81</td>\n",
       "      <td>32726.43</td>\n",
       "      <td>34849.05</td>\n",
       "    </tr>\n",
       "    <tr>\n",
       "      <td>3</td>\n",
       "      <td>2019-09-09</td>\n",
       "      <td>1145.00</td>\n",
       "      <td>1148.00</td>\n",
       "      <td>1136.52</td>\n",
       "      <td>1135.00</td>\n",
       "      <td>29379.34</td>\n",
       "      <td>-5.97</td>\n",
       "      <td>-0.52</td>\n",
       "      <td>1137.604</td>\n",
       "      <td>1129.099</td>\n",
       "      <td>1099.035</td>\n",
       "      <td>30314.42</td>\n",
       "      <td>35320.15</td>\n",
       "      <td>35054.18</td>\n",
       "    </tr>\n",
       "    <tr>\n",
       "      <td>4</td>\n",
       "      <td>2019-09-06</td>\n",
       "      <td>1144.50</td>\n",
       "      <td>1146.15</td>\n",
       "      <td>1142.49</td>\n",
       "      <td>1131.00</td>\n",
       "      <td>26176.59</td>\n",
       "      <td>-1.51</td>\n",
       "      <td>-0.13</td>\n",
       "      <td>1138.052</td>\n",
       "      <td>1125.742</td>\n",
       "      <td>1093.141</td>\n",
       "      <td>30085.41</td>\n",
       "      <td>37232.00</td>\n",
       "      <td>37660.16</td>\n",
       "    </tr>\n",
       "  </tbody>\n",
       "</table>\n",
       "</div>"
      ],
      "text/plain": [
       "         date     open     high    close      low    volume  price_change  \\\n",
       "0  2019-09-12  1066.00  1109.98  1099.00  1066.00  41211.33         29.48   \n",
       "1  2019-09-11  1119.22  1119.97  1069.52  1068.00  81716.54        -54.33   \n",
       "2  2019-09-10  1134.30  1135.00  1123.85  1120.01  26227.07        -12.67   \n",
       "3  2019-09-09  1145.00  1148.00  1136.52  1135.00  29379.34         -5.97   \n",
       "4  2019-09-06  1144.50  1146.15  1142.49  1131.00  26176.59         -1.51   \n",
       "\n",
       "   p_change       ma5      ma10      ma20     v_ma5    v_ma10    v_ma20  \n",
       "0      2.76  1114.276  1126.115  1108.345  40942.17  37385.21  37563.02  \n",
       "1     -4.83  1123.276  1127.525  1105.640  39286.08  36197.12  36864.33  \n",
       "2     -1.11  1134.374  1130.584  1104.330  29662.81  32726.43  34849.05  \n",
       "3     -0.52  1137.604  1129.099  1099.035  30314.42  35320.15  35054.18  \n",
       "4     -0.13  1138.052  1125.742  1093.141  30085.41  37232.00  37660.16  "
      ]
     },
     "execution_count": 2,
     "metadata": {},
     "output_type": "execute_result"
    }
   ],
   "source": [
    "# 导入股票数据，下面的股票数据是通过tushare库来获得的\n",
    "stock = pd.read_csv(\"./600519.csv\")\n",
    "stock.head()"
   ]
  },
  {
   "cell_type": "markdown",
   "metadata": {},
   "source": [
    "### 1. 对于股票数据提取技术指标\n",
    "直接调用给定的技术指标库来获得这些数据， 但建议大家可以简单看一下这些指标是如何被计算出来的。 虽然没必要一定要掌握，但大致的计算逻辑可以学习一下的。 如果对某一种指标感兴趣，想深入理解建议在百度上搜索 ： “技术指标” + “指标名字”来获得相关的参考资料，比如搜索 “技术指标” + 'rate of change\"， 有大量的资料可以参考的。\n",
    "\n",
    "> ```TODO1```: 提取技术指标"
   ]
  },
  {
   "cell_type": "code",
   "execution_count": 3,
   "metadata": {},
   "outputs": [
    {
     "data": {
      "text/html": [
       "<div>\n",
       "<style scoped>\n",
       "    .dataframe tbody tr th:only-of-type {\n",
       "        vertical-align: middle;\n",
       "    }\n",
       "\n",
       "    .dataframe tbody tr th {\n",
       "        vertical-align: top;\n",
       "    }\n",
       "\n",
       "    .dataframe thead th {\n",
       "        text-align: right;\n",
       "    }\n",
       "</style>\n",
       "<table border=\"1\" class=\"dataframe\">\n",
       "  <thead>\n",
       "    <tr style=\"text-align: right;\">\n",
       "      <th></th>\n",
       "      <th>date</th>\n",
       "      <th>open</th>\n",
       "      <th>high</th>\n",
       "      <th>close</th>\n",
       "      <th>low</th>\n",
       "      <th>volume</th>\n",
       "      <th>price_change</th>\n",
       "      <th>p_change</th>\n",
       "      <th>ma5</th>\n",
       "      <th>ma10</th>\n",
       "      <th>ma20</th>\n",
       "      <th>v_ma5</th>\n",
       "      <th>v_ma10</th>\n",
       "      <th>v_ma20</th>\n",
       "      <th>EMA_5</th>\n",
       "    </tr>\n",
       "  </thead>\n",
       "  <tbody>\n",
       "    <tr>\n",
       "      <td>0</td>\n",
       "      <td>2019-09-12</td>\n",
       "      <td>1066.00</td>\n",
       "      <td>1109.98</td>\n",
       "      <td>1099.00</td>\n",
       "      <td>1066.00</td>\n",
       "      <td>41211.33</td>\n",
       "      <td>29.48</td>\n",
       "      <td>2.76</td>\n",
       "      <td>1114.276</td>\n",
       "      <td>1126.115</td>\n",
       "      <td>1108.345</td>\n",
       "      <td>40942.17</td>\n",
       "      <td>37385.21</td>\n",
       "      <td>37563.02</td>\n",
       "      <td>NaN</td>\n",
       "    </tr>\n",
       "    <tr>\n",
       "      <td>1</td>\n",
       "      <td>2019-09-11</td>\n",
       "      <td>1119.22</td>\n",
       "      <td>1119.97</td>\n",
       "      <td>1069.52</td>\n",
       "      <td>1068.00</td>\n",
       "      <td>81716.54</td>\n",
       "      <td>-54.33</td>\n",
       "      <td>-4.83</td>\n",
       "      <td>1123.276</td>\n",
       "      <td>1127.525</td>\n",
       "      <td>1105.640</td>\n",
       "      <td>39286.08</td>\n",
       "      <td>36197.12</td>\n",
       "      <td>36864.33</td>\n",
       "      <td>NaN</td>\n",
       "    </tr>\n",
       "    <tr>\n",
       "      <td>2</td>\n",
       "      <td>2019-09-10</td>\n",
       "      <td>1134.30</td>\n",
       "      <td>1135.00</td>\n",
       "      <td>1123.85</td>\n",
       "      <td>1120.01</td>\n",
       "      <td>26227.07</td>\n",
       "      <td>-12.67</td>\n",
       "      <td>-1.11</td>\n",
       "      <td>1134.374</td>\n",
       "      <td>1130.584</td>\n",
       "      <td>1104.330</td>\n",
       "      <td>29662.81</td>\n",
       "      <td>32726.43</td>\n",
       "      <td>34849.05</td>\n",
       "      <td>NaN</td>\n",
       "    </tr>\n",
       "    <tr>\n",
       "      <td>3</td>\n",
       "      <td>2019-09-09</td>\n",
       "      <td>1145.00</td>\n",
       "      <td>1148.00</td>\n",
       "      <td>1136.52</td>\n",
       "      <td>1135.00</td>\n",
       "      <td>29379.34</td>\n",
       "      <td>-5.97</td>\n",
       "      <td>-0.52</td>\n",
       "      <td>1137.604</td>\n",
       "      <td>1129.099</td>\n",
       "      <td>1099.035</td>\n",
       "      <td>30314.42</td>\n",
       "      <td>35320.15</td>\n",
       "      <td>35054.18</td>\n",
       "      <td>NaN</td>\n",
       "    </tr>\n",
       "    <tr>\n",
       "      <td>4</td>\n",
       "      <td>2019-09-06</td>\n",
       "      <td>1144.50</td>\n",
       "      <td>1146.15</td>\n",
       "      <td>1142.49</td>\n",
       "      <td>1131.00</td>\n",
       "      <td>26176.59</td>\n",
       "      <td>-1.51</td>\n",
       "      <td>-0.13</td>\n",
       "      <td>1138.052</td>\n",
       "      <td>1125.742</td>\n",
       "      <td>1093.141</td>\n",
       "      <td>30085.41</td>\n",
       "      <td>37232.00</td>\n",
       "      <td>37660.16</td>\n",
       "      <td>1126.184123</td>\n",
       "    </tr>\n",
       "  </tbody>\n",
       "</table>\n",
       "</div>"
      ],
      "text/plain": [
       "         date     open     high    close      low    volume  price_change  \\\n",
       "0  2019-09-12  1066.00  1109.98  1099.00  1066.00  41211.33         29.48   \n",
       "1  2019-09-11  1119.22  1119.97  1069.52  1068.00  81716.54        -54.33   \n",
       "2  2019-09-10  1134.30  1135.00  1123.85  1120.01  26227.07        -12.67   \n",
       "3  2019-09-09  1145.00  1148.00  1136.52  1135.00  29379.34         -5.97   \n",
       "4  2019-09-06  1144.50  1146.15  1142.49  1131.00  26176.59         -1.51   \n",
       "\n",
       "   p_change       ma5      ma10      ma20     v_ma5    v_ma10    v_ma20  \\\n",
       "0      2.76  1114.276  1126.115  1108.345  40942.17  37385.21  37563.02   \n",
       "1     -4.83  1123.276  1127.525  1105.640  39286.08  36197.12  36864.33   \n",
       "2     -1.11  1134.374  1130.584  1104.330  29662.81  32726.43  34849.05   \n",
       "3     -0.52  1137.604  1129.099  1099.035  30314.42  35320.15  35054.18   \n",
       "4     -0.13  1138.052  1125.742  1093.141  30085.41  37232.00  37660.16   \n",
       "\n",
       "         EMA_5  \n",
       "0          NaN  \n",
       "1          NaN  \n",
       "2          NaN  \n",
       "3          NaN  \n",
       "4  1126.184123  "
      ]
     },
     "execution_count": 3,
     "metadata": {},
     "output_type": "execute_result"
    }
   ],
   "source": [
    "# TODO: 提取各类技术指标， 你可以把所有的技术指标全部调用一遍，也可以选择几个来尝试。 或者感兴趣的话，可以把其他的技术指标也加进来。 \n",
    "#       每个技术指标的参数是不一样的，但基本也就1-2个参数，最常用的参数是天数（函数里用n来表示）， 有些技术指标需要传入两个参数（比如MACD，\n",
    "#       一个是针对于fast_line, 一个是针对于slow_line, 需要分别定义天数）。 由于每个指标都有参数，所以针对于同一类指标其实可以提取很多不同的特征的！\n",
    "\n",
    "# 例子： stock = average_directional_movement_index(stock, 12, 26) #  提取技术指标并存放在新的dataframe中\n",
    "#      stock = moving_average(stock, 5)\n",
    "#      stock = moving_average(stock, 15)\n",
    "\n",
    "#stock = moving_average(stock, 5)\n",
    "stock = exponential_moving_average(stock, 5)\n",
    "\n",
    "stock.head()"
   ]
  },
  {
   "cell_type": "markdown",
   "metadata": {},
   "source": [
    "### 2. 数据处理，以及训练样本和测试样本的提取\n",
    "通过上面的环节我们已经提取好了所需要的技术指标。 接下来的环节是通过这批数据来构造训练数据和测试数据了。 具体构造用于监督学习的数据的方法在本章的视频课程里已经提过，可以按照此方法来做。 \n",
    "注：数据中存在着NAN， 稍微思考一下为什么会出现这些NAN？ 为了去理解这些NAN的源头，需要看一下pandas里的rolling().mean()是如何工作的。 在我们项目中，我们是通过历史一段时间的数据来预测未来的涨跌的，所以一定不能使用未来数据来预测未来，只能用历史数据来预测未来。 \n",
    "\n",
    "> ```TODO2```： 做必要的数据预处理，并构建好样本数据。这里我们要预测的标签是第二天的涨跌。如果第二天的```close```价格 >  第一天的```close```价格，我们可以认为这个样本为正样本（1）， 如果价格小于第一天的```close```价格，就认为这个样本为负样本（0）。 构建完训练样本之后，在把样本通过```train_test_split```来划分为训练集和测试集。"
   ]
  },
  {
   "cell_type": "code",
   "execution_count": 4,
   "metadata": {},
   "outputs": [
    {
     "name": "stdout",
     "output_type": "stream",
     "text": [
      "(460, 7) (460,) (154, 7) (154,)\n"
     ]
    }
   ],
   "source": [
    "# TODO 2   完成样本数据的构造，并随机分成训练和测试数据\n",
    "from sklearn.model_selection import train_test_split\n",
    "\n",
    "X = stock[['close','open','high','low','volume','ma5','ma10']]\n",
    "target = stock['price_change'].map(lambda x: 1 if x>0 else 0)\n",
    "X_train, X_test, y_train, y_test = train_test_split(X, target, test_size = 0.25, random_state = 42)\n",
    "\n",
    "print (X_train.shape, y_train.shape, X_test.shape, y_test.shape)"
   ]
  },
  {
   "cell_type": "markdown",
   "metadata": {},
   "source": [
    "### 3. 利用随机森林训练模型\n",
    "模型训练部分跟之前没有太大区别，试着通过交叉验证来训练一下，然后看看结果如何。 \n",
    "> ```TODO3```：训练模型 "
   ]
  },
  {
   "cell_type": "code",
   "execution_count": 8,
   "metadata": {},
   "outputs": [
    {
     "name": "stdout",
     "output_type": "stream",
     "text": [
      "CPU times: user 544 ms, sys: 84.4 ms, total: 628 ms\n",
      "Wall time: 9.42 s\n"
     ]
    },
    {
     "data": {
      "text/plain": [
       "GridSearchCV(cv=KFold(n_splits=3, random_state=None, shuffle=False),\n",
       "             error_score='raise-deprecating',\n",
       "             estimator=RandomForestClassifier(bootstrap=True, class_weight=None,\n",
       "                                              criterion='gini', max_depth=None,\n",
       "                                              max_features='auto',\n",
       "                                              max_leaf_nodes=None,\n",
       "                                              min_impurity_decrease=0.0,\n",
       "                                              min_impurity_split=None,\n",
       "                                              min_samples_leaf=1,\n",
       "                                              min_samples_split=2,\n",
       "                                              min_weight_fraction_leaf=0.0,\n",
       "                                              n_estimators='warn', n_jobs=None,\n",
       "                                              oob_score=False, random_state=99,\n",
       "                                              verbose=0, warm_start=False),\n",
       "             iid='warn', n_jobs=-1,\n",
       "             param_grid={'min_samples_split': [2, 5, 10],\n",
       "                         'n_estimators': [200, 400, 800]},\n",
       "             pre_dispatch='2*n_jobs', refit=True, return_train_score=False,\n",
       "             scoring=None, verbose=0)"
      ]
     },
     "execution_count": 8,
     "metadata": {},
     "output_type": "execute_result"
    }
   ],
   "source": [
    "%%time\n",
    "# TODO: 训练随机森林模型，请尝试不同的参数，最后在测试集上输出最好的参数\n",
    "from sklearn.model_selection import KFold\n",
    "from sklearn.model_selection import GridSearchCV\n",
    "from sklearn.ensemble import RandomForestClassifier\n",
    "\n",
    "kfold = KFold(n_splits = 3)\n",
    "rf = RandomForestClassifier(random_state=99)\n",
    "\n",
    "# Number of trees in random forest\n",
    "#n_estimators = [int(x) for x in np.linspace(start = 200, stop = 2000, num = 10)]\n",
    "n_estimators = [200, 400, 800]\n",
    "# Number of features to consider at every split\n",
    "# max_features = ['auto', 'sqrt']\n",
    "# Maximum number of levels in tree\n",
    "# max_depth = [int(x) for x in np.linspace(10, 100, num = 10)]\n",
    "# max_depth.append(None)\n",
    "# Minimum number of samples required to split a node\n",
    "min_samples_split = [2, 5, 10]\n",
    "# Minimum number of samples required at each leaf node\n",
    "# min_samples_leaf = [1, 2, 4]\n",
    "# Method of selecting samples for training each tree\n",
    "# bootstrap = [True, False]\n",
    "\n",
    "# Create the random grid\n",
    "params_grid = {'n_estimators': n_estimators,\n",
    "#                'max_features': max_features,\n",
    "#                'max_depth': max_depth,\n",
    "               'min_samples_split': min_samples_split,\n",
    "#                'min_samples_leaf': min_samples_leaf,\n",
    "#                'bootstrap': bootstrap\n",
    "              }\n",
    "\n",
    "model = GridSearchCV(estimator=rf, param_grid=params_grid, n_jobs = -1, cv = kfold)\n",
    "model.fit(X_train, y_train)\n"
   ]
  },
  {
   "cell_type": "code",
   "execution_count": 9,
   "metadata": {},
   "outputs": [
    {
     "data": {
      "text/plain": [
       "{'min_samples_split': 2, 'n_estimators': 200}"
      ]
     },
     "execution_count": 9,
     "metadata": {},
     "output_type": "execute_result"
    }
   ],
   "source": [
    "model.best_params_"
   ]
  },
  {
   "cell_type": "code",
   "execution_count": 10,
   "metadata": {},
   "outputs": [
    {
     "name": "stdout",
     "output_type": "stream",
     "text": [
      "              precision    recall  f1-score   support\n",
      "\n",
      "           0       0.68      0.66      0.67        76\n",
      "           1       0.68      0.69      0.68        78\n",
      "\n",
      "    accuracy                           0.68       154\n",
      "   macro avg       0.68      0.68      0.68       154\n",
      "weighted avg       0.68      0.68      0.68       154\n",
      "\n"
     ]
    }
   ],
   "source": [
    "from sklearn.metrics import classification_report\n",
    "y_pred = model.predict(X_test)\n",
    "print(classification_report(y_test, y_pred))"
   ]
  },
  {
   "cell_type": "markdown",
   "metadata": {},
   "source": [
    "> ```TODO4```: 问答题：得出来的结果怎么样？ 是否满足预期？ 你觉得有什么方式可以提升模型的准确率？ "
   ]
  },
  {
   "cell_type": "code",
   "execution_count": null,
   "metadata": {},
   "outputs": [],
   "source": [
    "问答题回复：不是很理想，需要对各个维度参数指标进行最佳选择。很想学习量化投资"
   ]
  },
  {
   "cell_type": "code",
   "execution_count": null,
   "metadata": {},
   "outputs": [],
   "source": [
    "# TODO: 提取各类技术指标， 你可以把所有的技术指标全部调用一遍，也可以选择几个来尝试。 或者感兴趣的话，可以把其他的技术指标也加进来。 \n",
    "#       每个技术指标的参数是不一样的，但基本也就1-2个参数，最常用的参数是天数（函数里用n来表示）， 有些技术指标需要传入两个参数（比如MACD，\n",
    "#       一个是针对于fast_line, 一个是针对于slow_line, 需要分别定义天数）。 由于每个指标都有参数，所以针对于同一类指标其实可以提取很多不同的特征的！\n",
    "\n",
    "# 例子： stock = average_directional_movement_index(stock, 12, 26) #  提取技术指标并存放在新的dataframe中\n",
    "#      stock = moving_average(stock, 5)\n",
    "#      stock = moving_average(stock, 15)\n",
    "\n",
    "stock = moving_average(stock, 5)\n",
    "stock = exponential_moving_average(stock, 5)\n",
    "stock = momentum(stock, 5)\n",
    "stock = rate_of_change(stock, 5)\n",
    "stock = average_true_range(stock, 5)\n",
    "stock = bollinger_bands(stock, 5)\n",
    "stock = stochastic_oscillator_k(stock)\n",
    "stock = stochastic_oscillator_d(stock, 5)\n",
    "stock = ease_of_movement(stock, 5)\n",
    "stock = standard_deviation(stock, 5)\n",
    "\n",
    "stock.head()"
   ]
  },
  {
   "cell_type": "markdown",
   "metadata": {},
   "source": [
    "<font color=#FF0000 size=4 face=\"黑体\">提取特征很关键，感兴趣可以看每个特征怎么提取的"
   ]
  },
  {
   "cell_type": "markdown",
   "metadata": {},
   "source": [
    "拓展阅读： 从本项目中可以看到这里的核心其实就是一个一个指标，而且每一个指标都是通过大量的经验来构造出来的。 但有些复杂度的指标确实也比较难想出来。问题：有没有可能让计算机学出有用的指标呢？ 比如计算机可以学出这样的指标 = (close- open) * volum - close * close - open   虽然这个指标有点看不懂，但有可能是有效的，有没有可能让AI做这件事情？？？ 如果对这些感兴趣，可以参考一下下方链接： https://www.baidu.com/link?url=WmpaRS35js8T8gAUzaF6_rvdepe0OqpgmeU0fTxhXzMZnKCUXIECQeUFB6VTpFjg&wd=&eqid=b04a03b600117ba2000000035d88bea9"
   ]
  }
 ],
 "metadata": {
  "kernelspec": {
   "display_name": "Python 3",
   "language": "python",
   "name": "python3"
  },
  "language_info": {
   "codemirror_mode": {
    "name": "ipython",
    "version": 3
   },
   "file_extension": ".py",
   "mimetype": "text/x-python",
   "name": "python",
   "nbconvert_exporter": "python",
   "pygments_lexer": "ipython3",
   "version": "3.7.0"
  }
 },
 "nbformat": 4,
 "nbformat_minor": 2
}
