{
 "cells": [
  {
   "cell_type": "markdown",
   "metadata": {},
   "source": [
    "**在决策树中，最能区分类别的特征将作为最先判断的条件，然后依次向下判断各个次优特征**。决策树的核心就在于如何选取每个节点的最优判断条件，也即特征选择的过程。而在每一个判断节点，决策树都会遵循一套if-then的规则："
   ]
  },
  {
   "cell_type": "markdown",
   "metadata": {},
   "source": [
    "与SVM一样，决策树是多功能的机器学习算法，\n",
    "\n",
    "* 可以执行分类和回归任务，甚至是多输出任务。 \n",
    "* 它们是非常强大的算法，能够拟合复杂的数据集。例如，在第2章中，您在加州住房数据集上训练了一个DecisionTreeRegressor模型，使其完美拟合（实际上过拟合了）。\n",
    "* 决策树也是随机森林的基本组成部分（参见第7章），这是最强大的机器学习算法之一\n",
    "\n",
    "今天。在本章中，我们将\n",
    "* 首先讨论如何训练，可视化和使用决策树进行预测。\n",
    "* 然后我们将介绍Scikit-Learn使用的CART训练算法，我们将讨论如何规范树木并将其用于回归任务。 \n",
    "* 最后，我们将讨论决策树的一些局限性。"
   ]
  },
  {
   "cell_type": "markdown",
   "metadata": {},
   "source": [
    "### Setup"
   ]
  },
  {
   "cell_type": "code",
   "execution_count": 1,
   "metadata": {},
   "outputs": [],
   "source": [
    "# To support both python 2 and python 3\n",
    "from __future__ import division, print_function, unicode_literals\n",
    "\n",
    "# Common imports\n",
    "import numpy as np\n",
    "import os\n",
    "\n",
    "# to make this notebook's output stable across runs\n",
    "np.random.seed(42)\n",
    "\n",
    "# To plot pretty figures\n",
    "%matplotlib inline\n",
    "import matplotlib\n",
    "import matplotlib.pyplot as plt\n",
    "plt.rcParams['axes.labelsize'] = 14\n",
    "plt.rcParams['xtick.labelsize'] = 12\n",
    "plt.rcParams['ytick.labelsize'] = 12\n",
    "\n",
    "# Where to save the figures\n",
    "PROJECT_ROOT_DIR = \"F:\\ML\\Machine learning\\Hands-on machine learning with scikit-learn and tensorflow\"\n",
    "CHAPTER_ID = \"06_Decision Trees\"\n",
    "\n",
    "def image_path(fig_id):\n",
    "    return os.path.join(PROJECT_ROOT_DIR, \"images\", CHAPTER_ID, fig_id)\n",
    "\n",
    "def save_fig(fig_id, tight_layout=True):\n",
    "    print(\"Saving figure\", fig_id)\n",
    "    if tight_layout:\n",
    "        plt.tight_layout()\n",
    "    plt.savefig(image_path(fig_id) + \".png\", format='png', dpi=300)\n",
    "    \n",
    "    \n",
    "# Ignore useless warnings (see SciPy issue #5998)\n",
    "# 忽略无用警告\n",
    "import warnings\n",
    "warnings.filterwarnings(action=\"ignore\", message=\"^internal gelsd\")"
   ]
  },
  {
   "cell_type": "markdown",
   "metadata": {},
   "source": [
    "### Training and Visualizing a Decision Tree 决策树的训练和可视化"
   ]
  },
  {
   "cell_type": "markdown",
   "metadata": {},
   "source": [
    "为了理解决策树，我们需要先构建一个决策树并亲身体验它到底如何进行预测。\n",
    "  \n",
    "接下来的代码就是在我们熟知的鸢尾花数据集上进行一个决策树分类器的训练。"
   ]
  },
  {
   "cell_type": "code",
   "execution_count": 2,
   "metadata": {},
   "outputs": [
    {
     "data": {
      "text/plain": [
       "DecisionTreeClassifier(class_weight=None, criterion='gini', max_depth=2,\n",
       "            max_features=None, max_leaf_nodes=None,\n",
       "            min_impurity_decrease=0.0, min_impurity_split=None,\n",
       "            min_samples_leaf=1, min_samples_split=2,\n",
       "            min_weight_fraction_leaf=0.0, presort=False, random_state=None,\n",
       "            splitter='best')"
      ]
     },
     "execution_count": 2,
     "metadata": {},
     "output_type": "execute_result"
    }
   ],
   "source": [
    "from sklearn.datasets import load_iris\n",
    "from sklearn.tree import DecisionTreeClassifier\n",
    "\n",
    "iris = load_iris()\n",
    "X = iris.data[:, 2:] # petal length and width \n",
    "y = iris.target\n",
    "tree_clf = DecisionTreeClassifier(max_depth=2)\n",
    "tree_clf.fit(X, y)"
   ]
  },
  {
   "cell_type": "code",
   "execution_count": null,
   "metadata": {},
   "outputs": [],
   "source": [
    "from sklearn.tree import export_graphviz\n",
    "\n",
    "export_graphviz(\n",
    "    tree_clf,\n",
    "    out_file=image_path(\"iris_tree.dot\"),\n",
    "    feature_names=iris.feature_names[2:],\n",
    "    class_names=iris.target_names,\n",
    "    rounded=True,\n",
    "    filled=True\n",
    ")"
   ]
  },
  {
   "cell_type": "code",
   "execution_count": 3,
   "metadata": {},
   "outputs": [
    {
     "data": {
      "image/png": "[encoded data removed]",
      "text/plain": [
       "<Figure size 576x288 with 1 Axes>"
      ]
     },
     "metadata": {
      "needs_background": "light"
     },
     "output_type": "display_data"
    }
   ],
   "source": [
    "from matplotlib.colors import ListedColormap\n",
    "\n",
    "def plot_decision_boundary(clf, X, y, axes=[0, 7.5, 0, 3], iris=True, legend=False, plot_training=True):\n",
    "    x1s = np.linspace(axes[0], axes[1], 100)\n",
    "    x2s = np.linspace(axes[2], axes[3], 100)\n",
    "    x1, x2 = np.meshgrid(x1s, x2s)\n",
    "    X_new = np.c_[x1.ravel(), x2.ravel()]\n",
    "    y_pred = clf.predict(X_new).reshape(x1.shape)\n",
    "    custom_cmap = ListedColormap(['#fafab0','#9898ff','#a0faa0'])\n",
    "    plt.contourf(x1, x2, y_pred, alpha=0.3, cmap=custom_cmap)\n",
    "    if not iris:\n",
    "        custom_cmap2 = ListedColormap(['#7d7d58','#4c4c7f','#507d50'])\n",
    "        plt.contour(x1, x2, y_pred, cmap=custom_cmap2, alpha=0.8)\n",
    "    if plot_training:\n",
    "        plt.plot(X[:, 0][y==0], X[:, 1][y==0], \"yo\", label=\"Iris-Setosa\")\n",
    "        plt.plot(X[:, 0][y==1], X[:, 1][y==1], \"bs\", label=\"Iris-Versicolor\")\n",
    "        plt.plot(X[:, 0][y==2], X[:, 1][y==2], \"g^\", label=\"Iris-Virginica\")\n",
    "        plt.axis(axes)\n",
    "    if iris:\n",
    "        plt.xlabel(\"Petal length\", fontsize=14)\n",
    "        plt.ylabel(\"Petal width\", fontsize=14)\n",
    "    else:\n",
    "        plt.xlabel(r\"$x_1$\", fontsize=18)\n",
    "        plt.ylabel(r\"$x_2$\", fontsize=18, rotation=0)\n",
    "    if legend:\n",
    "        plt.legend(loc=\"lower right\", fontsize=14)\n",
    "\n",
    "plt.figure(figsize=(8, 4))\n",
    "plot_decision_boundary(tree_clf, X, y)\n",
    "plt.plot([2.45, 2.45], [0, 3], \"k-\", linewidth=2)\n",
    "plt.plot([2.45, 7.5], [1.75, 1.75], \"k--\", linewidth=2)\n",
    "plt.plot([4.95, 4.95], [0, 1.75], \"k:\", linewidth=2)\n",
    "plt.plot([4.85, 4.85], [1.75, 3], \"k:\", linewidth=2)\n",
    "plt.text(1.40, 1.0, \"Depth=0\", fontsize=15)\n",
    "plt.text(3.2, 1.80, \"Depth=1\", fontsize=13)\n",
    "plt.text(4.05, 0.5, \"(Depth=2)\", fontsize=11)\n",
    "plt.title('Figure 6-2. Decision Tree decision boundaries')\n",
    "\n",
    "# save_fig(\"decision_tree_decision_boundaries_plot\")\n",
    "plt.show()"
   ]
  },
  {
   "cell_type": "markdown",
   "metadata": {},
   "source": [
    "Scikit-Learn使用CART算法，该算法仅生成二叉树：非叶节点总是有两个子节点（即，问题只有是/否答案）。 但是，其他算法（如ID3）可以生成具有两个以上子节点的节点的决策树。\n",
    "\n",
    "图6-2显示了决策树的决策边界。\n",
    "\n",
    "* **粗垂直线**表示根节点的决策边界（深度0）：花瓣长度= 2.45厘米。由于左侧区域是纯净的（仅Iris-Setosa），因此无法进一步拆分。 \n",
    "\n",
    "* 然而，右侧区域是不纯的，因此深度为1的右侧节点将其分割成花瓣宽度= 1.75厘米（由**虚线**表示）。由于max_depth设置为2，因此决策树会在那里停止。 \n",
    "\n",
    "* 但是，如果将max_depth设置为3，那么两个深度为2的节点将各自添加另一个决策边界（由**点虚线**表示）。"
   ]
  },
  {
   "cell_type": "markdown",
   "metadata": {},
   "source": [
    "**模型解读：白盒与黑盒**\n",
    "\n",
    "正如您所见，**决策树非常直观**，而且他们的决策很容易解释。 这种模型通常被称为**白盒模型**。 相反，正如我们将要看到的，**随机森林或神经网络**通常被认为是**黑盒模型**。 他们做出了很好的预测，你可以轻松地检查他们进行的计算以做出这些预测; 尽管如此，通常很难用简单的术语解释为什么做出预测。 例如，如果一个神经网络说一个特定的人出现在一张图片上，那么很难知道这个预测究竟有什么贡献：模型是否认出了那个人的眼睛？ 她的嘴？ 她的鼻子？ 她的鞋子？ 甚至是她坐在沙发上？ 相反，决策树提供了简单的分类规则，如果需要，甚至可以手动应用（例如，用于花卉分类）。"
   ]
  },
  {
   "cell_type": "markdown",
   "metadata": {},
   "source": [
    "### Estimating Class Probabilities 估计分类概率"
   ]
  },
  {
   "cell_type": "markdown",
   "metadata": {},
   "source": [
    "**估计类概率**\n",
    "决策树也可以估计一个实例属于一个特定的类 k 的概率：首先它遍历树以找到该实例的叶节点，然后它返回该节点中类 k 的训练实例的**比例**。\n",
    "例如，假设你发现了一朵花瓣长5厘米，宽1.5厘米的花。 相应的叶节点是深度为2的左节点，因此决策树应输出以下概率：\n",
    "* Iris-Setosa 为 0％（0/54），\n",
    "* Iris-Versicolor 为 90.7％（49/54），\n",
    "* Iris-Virginica 为 9.3％（5/54）。\n",
    "\n",
    "当然，如果你要求它预测类别，它应该输出Iris-Versicolor（类别 1 ），因为它的概率最高。 我们来检查一下："
   ]
  },
  {
   "cell_type": "code",
   "execution_count": 4,
   "metadata": {},
   "outputs": [
    {
     "data": {
      "text/plain": [
       "array([[0.        , 0.90740741, 0.09259259]])"
      ]
     },
     "execution_count": 4,
     "metadata": {},
     "output_type": "execute_result"
    }
   ],
   "source": [
    "tree_clf.predict_proba([[5, 1.5]])"
   ]
  },
  {
   "cell_type": "code",
   "execution_count": 5,
   "metadata": {},
   "outputs": [
    {
     "data": {
      "text/plain": [
       "array([1])"
      ]
     },
     "execution_count": 5,
     "metadata": {},
     "output_type": "execute_result"
    }
   ],
   "source": [
    "tree_clf.predict([[5, 1.5]])"
   ]
  },
  {
   "cell_type": "markdown",
   "metadata": {},
   "source": [
    "完美！请注意，估计概率在任何地方都是相同的， 除了图 6-2 中右下角的矩形部分，例如花瓣长 6 厘米和宽 1.5 厘米（尽管在这种情况下它看起来很可能是 Iris-Virginica）。"
   ]
  },
  {
   "cell_type": "markdown",
   "metadata": {},
   "source": [
    "### The CART Training Algorithm CART 训练算法"
   ]
  },
  {
   "cell_type": "markdown",
   "metadata": {},
   "source": [
    "Scikit-Learn使用**分类和回归树（Classification And Regression Tree-CART）**算法训练决策树（也称为“生长”树）。这个想法非常简单：\n",
    "该算法首先使用**单个特征 k 和阈值 $t_k$** （例如，“花瓣长度≤2.45cm”）将训练集**分成两个子集**。它如何选择 k 和 $t_k$呢？它为 $(k，t_k)$ 搜索产生最纯子集（按其大小加权）。"
   ]
  },
  {
   "cell_type": "markdown",
   "metadata": {},
   "source": [
    "* 一旦它成功地将训练集分成两部分，它就会**使用相同的逻辑分割子集，然后递归地分割子子集等**。\n",
    "* 一旦达到**最大深度**（由max_depth超参数定义），或者如果找不到会减少杂质的分割，它就会停止递归。\n",
    "* 其他一些超参数（稍后描述）控制其他停止条件（min_samples_split，min_sam ples_leaf，min_weight_fraction_leaf和max_leaf_nodes）。"
   ]
  },
  {
   "cell_type": "markdown",
   "metadata": {},
   "source": [
    "> 如你所见，CART算法是一种贪婪的算法：它贪婪地在顶层搜索最佳分割，然后在每个级别重复该过程。 它不检查分裂是否会导致几个级别的最低可能杂质。 贪心算法通常会产生一个**相当好的解决方案**，**但它不能保证是最佳解决方案**。"
   ]
  },
  {
   "cell_type": "markdown",
   "metadata": {},
   "source": [
    "不幸的是，找到最佳树是一个NP-Complete问题：它需要$O(exp(m))$时间，即使对于相当小的训练集，问题也难以处理。这就是为什么我们必须满足于“合理的”解决方案。"
   ]
  },
  {
   "cell_type": "markdown",
   "metadata": {},
   "source": [
    "### Computational Complexity 计算复杂度"
   ]
  },
  {
   "cell_type": "markdown",
   "metadata": {},
   "source": [
    "### Gini Impurity or Entropy? 基尼不纯度或是信息熵？"
   ]
  },
  {
   "cell_type": "markdown",
   "metadata": {},
   "source": [
    "### Regularization Hyperparameters 正则化超参数"
   ]
  },
  {
   "cell_type": "markdown",
   "metadata": {},
   "source": [
    "为避免过拟合训练数据，你需要在训练期间**限制决策树的自由**。 如你所知，这被称为**正则化**。正则化超参数取决于所使用的算法，但通常您至少可以**限制决策树的最大深度**。 在Scikit-Learn中，这由**超参数max_depth**控制（默认值为None，表示无限制）。**减少max_depth将使模型则化，从而降低过拟合的风险**。"
   ]
  },
  {
   "cell_type": "markdown",
   "metadata": {},
   "source": [
    "**DecisionTreeClassifier类**还有一些其他参数类似地限制了决策树的形状：\n",
    "\n",
    "* min_samples_split（节点在分割之前必须具有的最小样本数），\n",
    "\n",
    "* min_samples_leaf（叶子节点必须具有的最小样本数），\n",
    "\n",
    "* min_weight_fraction_leaf（与min_samples_leaf相同，但表示为加权实例总数的一部分），\n",
    "\n",
    "* max_leaf_nodes（叶子节点的最大数量），\n",
    "\n",
    "* max_features（在每个节点处评估用于拆分的最大特征数）。\n",
    "\n",
    "* 增加超参数 $min_*$  或减少超参数 $max_*$ 将使模型正规化。"
   ]
  },
  {
   "cell_type": "markdown",
   "metadata": {},
   "source": [
    "### Instability 不稳定性"
   ]
  },
  {
   "cell_type": "markdown",
   "metadata": {},
   "source": [
    "**不稳定性**(这部分不是按书上的顺序来的，把最后一小节提前了)\n",
    "\n",
    "希望到现在你确信决策树有很大帮助：它们易于理解和解释，易于使用，功能多样，功能强大。但是他们确实有一些限制。\n",
    "\n",
    "1. 首先，正如你可能已经注意到的，决策树喜欢正交决策边界（所有分裂都垂直于轴），这使得它们**对训练集旋转敏感**。例如，图6-7显示了一个简单的线性可分离数据集：\n",
    "   * 在左侧，决策树可以轻松拆分，\n",
    "   * 在右侧，数据集旋转45°后，决策边界看起来不必要地复杂化。\n",
    "   \n",
    "   尽管两个决策树都完美地拟合训练集，但右侧的模型很可能不会很好地泛化。 限制此问题的一种方法是使用PCA（参见第8章），这通常可以更好地定位训练数据。"
   ]
  },
  {
   "cell_type": "markdown",
   "metadata": {},
   "source": [
    "2. 更一般地说，决策树的主要问题是他们对训练数据中的微小变化非常敏感。例如，如果您只是从鸢尾花训练集（花瓣长4.8厘米，宽1.8厘米）中移除最宽的Iris-Versicolor，并训练一个新的决策树，你可以得到如图6-8所示的模型。如你所见，它与之前的决策树看起来非常不同（图6-2）。由于Scikit-Learn使用的训练算法是随机的，即使在相同的训练数据上也可能得到非常不同的模型（除非你设置了random_state超参数）。"
   ]
  },
  {
   "cell_type": "code",
   "execution_count": null,
   "metadata": {},
   "outputs": [],
   "source": []
  }
 ],
 "metadata": {
  "kernelspec": {
   "display_name": "Python 3",
   "language": "python",
   "name": "python3"
  },
  "language_info": {
   "codemirror_mode": {
    "name": "ipython",
    "version": 3
   },
   "file_extension": ".py",
   "mimetype": "text/x-python",
   "name": "python",
   "nbconvert_exporter": "python",
   "pygments_lexer": "ipython3",
   "version": "3.7.3"
  },
  "toc": {
   "base_numbering": 1,
   "nav_menu": {},
   "number_sections": true,
   "sideBar": true,
   "skip_h1_title": false,
   "title_cell": "Table of Contents",
   "title_sidebar": "Contents",
   "toc_cell": false,
   "toc_position": {},
   "toc_section_display": true,
   "toc_window_display": false
  }
 },
 "nbformat": 4,
 "nbformat_minor": 2
}
