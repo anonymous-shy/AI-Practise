{
 "cells": [
  {
   "cell_type": "markdown",
   "metadata": {},
   "source": [
    "# 小象学院机器学习集训营-第1阶段-机器学习建模-阅读学习作业\n",
    "## 基于spark的航班延误数据分析与建模"
   ]
  },
  {
   "cell_type": "markdown",
   "metadata": {},
   "source": [
    "## 项目说明\n",
    "- 这个项目里，我们展示了用Spark的MLLIB工具包建模的主要特性和功能，这里用到的数据集是交通统计局研究和创新技术管理局的航空公司准时绩效数据集，这个数据集跨越了26年，1988年到2012年，并且相当大：超过1.48亿条记录，14GB的原始信息。我们使用了一部分数据，即2011年(用于训练)和2012年(用于测试)的数据，来评估二元分类模型的性能，以预测某些航班的起飞是否延迟了15分钟。整个项目也包含了EDA的过程。\n",
    "- 我们合并了始发地和目的地机场的天气条件（如风速、湿度、降水）与原始航空公司数据集，以便将天气特征纳入模型中。\n",
    "- 整个项目在两个worker的集群上大概跑15分钟左右完成"
   ]
  },
  {
   "cell_type": "markdown",
   "metadata": {},
   "source": [
    "### 项目流程\n",
    "1. 数据读取、清洗与关联\n",
    "2. 数据探索分析可视化\n",
    "3. 数据预处理与特征工程\n",
    "4. 建模、超参数调优、预测与模型存储\n",
    "5. 模型评估\n",
    "\n",
    "整个项目会用到很多的spark SQL操作，在大家工业界的实际项目中，除掉spark mllib中默认给到的特征工程模块，我们也会经常用spark SQL来进行特征工程(完成各种统计信息计算与变换)。"
   ]
  },
  {
   "cell_type": "markdown",
   "metadata": {},
   "source": [
    "### 数据说明\n",
    "\n",
    "数据来源于[交通统计局研究和创新技术管理局](http://www.transtats.bts.gov/DL_SelectFields.asp?Table_ID=236&DB_Short_Name=On-Time)，合并的数据可以从下面的地址下载到:\n",
    "\n",
    "http://packages.revolutionanalytics.com/datasets/AirOnTime87to12\n",
    "\n",
    "航空公司数据集的一个有趣特性是，有几个特征（例如，机场ID、航班号等）具有许多（>100）分类特性。"
   ]
  },
  {
   "cell_type": "markdown",
   "metadata": {},
   "source": [
    "### 数据与模型地址"
   ]
  },
  {
   "cell_type": "code",
   "execution_count": 1,
   "metadata": {},
   "outputs": [
    {
     "name": "stdout",
     "output_type": "stream",
     "text": [
      "Starting Spark application\n"
     ]
    },
    {
     "data": {
      "text/html": [
       "<table>\n",
       "<tr><th>ID</th><th>YARN Application ID</th><th>Kind</th><th>State</th><th>Spark UI</th><th>Driver log</th><th>Current session?</th></tr><tr><td>20</td><td>application_1485304066110_0069</td><td>pyspark3</td><td>idle</td><td><a target=\"_blank\" href=\"http://hn1-debraj.crhwll4e0aru5gqoc1jhfy1hjc.dx.internal.cloudapp.net:8088/proxy/application_1485304066110_0069/\">Link</a></td><td><a target=\"_blank\" href=\"http://10.0.0.8:30060/node/containerlogs/container_e01_1485304066110_0069_01_000001/livy\">Link</a></td><td>✔</td></tr></table>"
      ],
      "text/plain": [
       "<IPython.core.display.HTML object>"
      ]
     },
     "metadata": {},
     "output_type": "display_data"
    },
    {
     "name": "stdout",
     "output_type": "stream",
     "text": [
      "SparkSession available as 'spark'.\n"
     ]
    }
   ],
   "source": [
    "# 1. Location of training data: contains Dec 2013 trip and fare data from NYC \n",
    "air_file_loc = \"data/AirlineSubsetCsv\"\n",
    "weather_file_loc = \"data/WeatherSubsetCsv\"\n",
    "\n",
    "# 3. Set model storage directory path. This is where models will be saved.\n",
    "modelDir = \"Models/\"; # The last backslash is needed;\n",
    "\n",
    "# 4. Set data storage path. This is where data is sotred on the blob attached to the cluster.\n",
    "dataDir = \"Airline/\"; # The last backslash is needed;"
   ]
  },
  {
   "cell_type": "markdown",
   "metadata": {},
   "source": [
    "### 引入工具库"
   ]
  },
  {
   "cell_type": "code",
   "execution_count": 2,
   "metadata": {},
   "outputs": [],
   "source": [
    "from pyspark import SparkConf\n",
    "from pyspark import SparkContext\n",
    "from pyspark.sql import SQLContext\n",
    "from pyspark.sql.functions import UserDefinedFunction\n",
    "from pyspark.sql.types import *\n",
    "import matplotlib.pyplot as plt\n",
    "import numpy as np\n",
    "import datetime\n",
    "\n",
    "sqlContext = SQLContext(sc)"
   ]
  },
  {
   "cell_type": "markdown",
   "metadata": {},
   "source": [
    "### 读取原始数据"
   ]
  },
  {
   "cell_type": "markdown",
   "metadata": {},
   "source": [
    "#### 数据读取并注册成视图"
   ]
  },
  {
   "cell_type": "code",
   "execution_count": 139,
   "metadata": {
    "collapsed": true
   },
   "outputs": [],
   "source": [
    "## READ IN AIR DATA FRAME FROM CSV\n",
    "air = spark.read.csv(path=air_file_loc, header=True, inferSchema=True)\n",
    "\n",
    "## READ IN WEATHER DATA FRAME FROM CSV\n",
    "weather = spark.read.csv(path=weather_file_loc, header=True, inferSchema=True)"
   ]
  },
  {
   "cell_type": "code",
   "execution_count": 140,
   "metadata": {},
   "outputs": [
    {
     "name": "stdout",
     "output_type": "stream",
     "text": [
      "root\n",
      " |-- YEAR: integer (nullable = true)\n",
      " |-- MONTH: integer (nullable = true)\n",
      " |-- DAY_OF_MONTH: integer (nullable = true)\n",
      " |-- DAY_OF_WEEK: integer (nullable = true)\n",
      " |-- FL_DATE: timestamp (nullable = true)\n",
      " |-- UNIQUE_CARRIER: string (nullable = true)\n",
      " |-- TAIL_NUM: string (nullable = true)\n",
      " |-- FL_NUM: integer (nullable = true)\n",
      " |-- ORIGIN_AIRPORT_ID: integer (nullable = true)\n",
      " |-- ORIGIN: string (nullable = true)\n",
      " |-- ORIGIN_STATE_ABR: string (nullable = true)\n",
      " |-- DEST_AIRPORT_ID: integer (nullable = true)\n",
      " |-- DEST: string (nullable = true)\n",
      " |-- DEST_STATE_ABR: string (nullable = true)\n",
      " |-- CRS_DEP_TIME: integer (nullable = true)\n",
      " |-- DEP_TIME: string (nullable = true)\n",
      " |-- DEP_DELAY: string (nullable = true)\n",
      " |-- DEP_DELAY_NEW: string (nullable = true)\n",
      " |-- DEP_DEL15: string (nullable = true)\n",
      " |-- DEP_DELAY_GROUP: string (nullable = true)\n",
      " |-- TAXI_OUT: double (nullable = true)\n",
      " |-- WHEELS_OFF: integer (nullable = true)\n",
      " |-- WHEELS_ON: integer (nullable = true)\n",
      " |-- TAXI_IN: double (nullable = true)\n",
      " |-- CRS_ARR_TIME: integer (nullable = true)\n",
      " |-- ARR_TIME: string (nullable = true)\n",
      " |-- ARR_DELAY: string (nullable = true)\n",
      " |-- ARR_DELAY_NEW: string (nullable = true)\n",
      " |-- ARR_DEL15: string (nullable = true)\n",
      " |-- ARR_DELAY_GROUP: string (nullable = true)\n",
      " |-- CANCELLED: double (nullable = true)\n",
      " |-- CANCELLATION_CODE: string (nullable = true)\n",
      " |-- DIVERTED: double (nullable = true)\n",
      " |-- CRS_ELAPSED_TIME: string (nullable = true)\n",
      " |-- ACTUAL_ELAPSED_TIME: string (nullable = true)\n",
      " |-- AIR_TIME: double (nullable = true)\n",
      " |-- FLIGHTS: double (nullable = true)\n",
      " |-- DISTANCE: double (nullable = true)\n",
      " |-- DISTANCE_GROUP: integer (nullable = true)\n",
      " |-- CARRIER_DELAY: double (nullable = true)\n",
      " |-- WEATHER_DELAY: double (nullable = true)\n",
      " |-- NAS_DELAY: double (nullable = true)\n",
      " |-- SECURITY_DELAY: double (nullable = true)\n",
      " |-- LATE_AIRCRAFT_DELAY: double (nullable = true)\n",
      " |-- _c44: string (nullable = true)\n",
      "\n",
      "root\n",
      " |-- Visibility: string (nullable = true)\n",
      " |-- DryBulbCelsius: string (nullable = true)\n",
      " |-- DewPointCelsius: string (nullable = true)\n",
      " |-- RelativeHumidity: string (nullable = true)\n",
      " |-- WindSpeed: string (nullable = true)\n",
      " |-- Altimeter: string (nullable = true)\n",
      " |-- AdjustedYear: double (nullable = true)\n",
      " |-- AdjustedMonth: double (nullable = true)\n",
      " |-- AdjustedDay: integer (nullable = true)\n",
      " |-- AdjustedHour: integer (nullable = true)\n",
      " |-- AirportID: integer (nullable = true)"
     ]
    }
   ],
   "source": [
    "## CHECK SCHEMA OF TRIP AND FARE TABLES\n",
    "air.printSchema()\n",
    "weather.printSchema()"
   ]
  },
  {
   "cell_type": "code",
   "execution_count": 141,
   "metadata": {
    "collapsed": true
   },
   "outputs": [],
   "source": [
    "## REGISTER DATA-FRAMEs AS A TEMP-TABLEs IN SQL-CONTEXT\n",
    "air.createOrReplaceTempView(\"airline\")\n",
    "weather.createOrReplaceTempView(\"weather\")"
   ]
  },
  {
   "cell_type": "markdown",
   "metadata": {},
   "source": [
    "#### 使用Spark SQL关联清洗与生成特征数据"
   ]
  },
  {
   "cell_type": "code",
   "execution_count": 466,
   "metadata": {},
   "outputs": [],
   "source": [
    "## USING SQL: CLEAN AND MERGE AIR AND WEATHER DATA-SETS TO CREATE A JOINED DATA-FRAME\n",
    "\n",
    "# COUNT FLIGHTS BY AIRPORT\n",
    "spark.sql(\"SELECT ORIGIN, COUNT(*) as CTORIGIN FROM airline GROUP BY ORIGIN\").createOrReplaceTempView(\"countOrigin\")\n",
    "spark.sql(\"SELECT DEST, COUNT(*) as CTDEST FROM airline GROUP BY DEST\").createOrReplaceTempView(\"countDest\")\n",
    "\n",
    "## CLEAN AIRLINE DATA WITH QUERY, FILTER FOR AIRPORTS WHICH HAVE VERY FEW FLIGHTS (<100)\n",
    "sqlStatement = \"\"\"\n",
    "SELECT ARR_DEL15 as ArrDel15,\n",
    "       YEAR as Year,\n",
    "       MONTH as Month,\n",
    "       DAY_OF_MONTH as DayOfMonth,\n",
    "       DAY_OF_WEEK as DayOfWeek,\n",
    "       UNIQUE_CARRIER as Carrier,\n",
    "       ORIGIN_AIRPORT_ID as OriginAirportID,\n",
    "       ORIGIN,\n",
    "       DEST_AIRPORT_ID as DestAirportID,\n",
    "       DEST,\n",
    "       floor(CRS_DEP_TIME/100) as CRSDepTime,\n",
    "       floor(CRS_ARR_TIME/100) as CRSArrTime\n",
    "  FROM airline\n",
    " WHERE ARR_DEL15 in ('0.0', '1.0')\n",
    "   AND ORIGIN IN (\n",
    "        SELECT DISTINCT ORIGIN\n",
    "          FROM countOrigin\n",
    "         where CTORIGIN > 100\n",
    "       )\n",
    "   AND DEST IN (\n",
    "        SELECT DISTINCT DEST\n",
    "          FROM countDest\n",
    "         where CTDEST > 100\n",
    "       )\n",
    "\"\"\"\n",
    "airCleaned = spark.sql(sqlStatement)\n",
    "\n",
    "# REGISTER CLEANED AIR DATASET\n",
    "airCleaned.createOrReplaceTempView(\"airCleaned\")\n",
    "\n",
    "## CLEAN WEATHER DATA WITH QUERY\n",
    "sqlStatement = \"\"\"\n",
    "SELECT AdjustedYear,\n",
    "       AdjustedMonth,\n",
    "       AdjustedDay,\n",
    "       AdjustedHour,\n",
    "       AirportID,\n",
    "       avg(Visibility) as Visibility,\n",
    "       avg(DryBulbCelsius) as DryBulbCelsius,\n",
    "       avg(DewPointCelsius) as DewPointCelsius,\n",
    "       avg(RelativeHumidity) as RelativeHumidity,\n",
    "       avg(WindSpeed) as WindSpeed,\n",
    "       avg(Altimeter) as Altimeter\n",
    "  FROM weather\n",
    " GROUP BY AdjustedYear,\n",
    "          AdjustedMonth,\n",
    "          AdjustedDay,\n",
    "          AdjustedHour,\n",
    "          AirportID\n",
    "\"\"\"\n",
    "weatherCleaned = spark.sql(sqlStatement)\n",
    "\n",
    "# REGISTER CLEANED AIR DATASET\n",
    "weatherCleaned.createOrReplaceTempView(\"weatherCleaned\")"
   ]
  },
  {
   "cell_type": "code",
   "execution_count": 467,
   "metadata": {},
   "outputs": [],
   "source": [
    "# CREATE JOINED DATA SET AND REGISTER TABLE\n",
    "sqlStatement = \"\"\"\n",
    "SELECT a.ArrDel15,\n",
    "       a.Year,\n",
    "       a.Month,\n",
    "       a.DayOfMonth,\n",
    "       a.DayOfWeek,\n",
    "       a.Carrier,\n",
    "       a.OriginAirportID,\n",
    "       a.ORIGIN,\n",
    "       a.DestAirportID,\n",
    "       a.DEST,\n",
    "       a.CRSDepTime,\n",
    "       b.Visibility as VisibilityOrigin,\n",
    "       b.DryBulbCelsius as DryBulbCelsiusOrigin,\n",
    "       b.DewPointCelsius as DewPointCelsiusOrigin,\n",
    "       b.RelativeHumidity as RelativeHumidityOrigin,\n",
    "       b.WindSpeed as WindSpeedOrigin,\n",
    "       b.Altimeter as AltimeterOrigin,\n",
    "       c.Visibility as VisibilityDest,\n",
    "       c.DryBulbCelsius as DryBulbCelsiusDest,\n",
    "       c.DewPointCelsius as DewPointCelsiusDest,\n",
    "       c.RelativeHumidity as RelativeHumidityDest,\n",
    "       c.WindSpeed as WindSpeedDest,\n",
    "       c.Altimeter as AltimeterDest\n",
    "  FROM airCleaned a,\n",
    "       weatherCleaned b,\n",
    "       weatherCleaned c\n",
    " WHERE a.Year = b.AdjustedYear\n",
    "   and a.Year = c.AdjustedYear\n",
    "   and a.Month = b.AdjustedMonth\n",
    "   and a.Month = c.AdjustedMonth\n",
    "   and a.DayofMonth = b.AdjustedDay\n",
    "   and a.DayofMonth = c.AdjustedDay\n",
    "   and a.CRSDepTime= b.AdjustedHour\n",
    "   and a.CRSDepTime = c.AdjustedHour\n",
    "   and a.OriginAirportID = b.AirportID\n",
    "   and a.DestAirportID = c.AirportID\n",
    "\"\"\"\n",
    "\n",
    "# SEVERAL COLUMNS CONTAIN NULL VALUES, IT IS IMPORTANT TO FILTER FOR THOSE, OTHERWISE SOME TRANSFORMATIONS\n",
    "# WILL HAVE ERRORS LATER. HWERE WE SHOW HOW TO FILTER A DATA-FRAME USING SQL STATEMENT\n",
    "joined = spark.sql(sqlStatement).filter(\"VisibilityOrigin is not NULL and DryBulbCelsiusOrigin is not NULL \\\n",
    "                and DewPointCelsiusOrigin is not NULL and RelativeHumidityOrigin is not NULL \\\n",
    "                and WindSpeedOrigin is not NULL and AltimeterOrigin is not NULL \\\n",
    "                and VisibilityDest is not NULL and DryBulbCelsiusDest is not NULL \\\n",
    "                and DewPointCelsiusDest is not NULL and RelativeHumidityDest is not NULL \\\n",
    "                and WindSpeedDest is not NULL and AltimeterDest is not NULL \\\n",
    "                and ORIGIN is not NULL and DEST is not NULL \\\n",
    "                and OriginAirportID is not NULL and DestAirportID is not NULL \\\n",
    "                and CRSDepTime is not NULL and Year is not NULL and Month is not NULL \\\n",
    "                and DayOfMonth is not NULL and DayOfWeek is not NULL and Carrier is not NULL\")\n",
    "\n",
    "# REGISTER JOINED\n",
    "joined.createOrReplaceTempView(\"joined\")"
   ]
  },
  {
   "cell_type": "code",
   "execution_count": 468,
   "metadata": {},
   "outputs": [
    {
     "name": "stdout",
     "output_type": "stream",
     "text": [
      "+--------------------+-----------+\n",
      "|           tableName|isTemporary|\n",
      "+--------------------+-----------+\n",
      "|     hivesampletable|      false|\n",
      "|          aircleaned|       true|\n",
      "|             airline|       true|\n",
      "|           countdest|       true|\n",
      "|         countorigin|       true|\n",
      "|              joined|       true|\n",
      "|originairportidtrain|       true|\n",
      "|        testdatafilt|       true|\n",
      "|   testdatapartition|       true|\n",
      "|testdatapartition...|       true|\n",
      "|       testpartition|       true|\n",
      "|   testpartitionfilt|       true|\n",
      "|         tmp_results|       true|\n",
      "|               train|       true|\n",
      "|  traindatapartition|       true|\n",
      "|      trainpartition|       true|\n",
      "|  trainpartitionfilt|       true|\n",
      "| transformedtestfilt|       true|\n",
      "|transformedtrainfilt|       true|\n",
      "|             weather|       true|\n",
      "+--------------------+-----------+\n",
      "only showing top 20 rows"
     ]
    }
   ],
   "source": [
    "## SHOW WHICH TABLES ARE REGISTERED IN SQL-CONTEXT\n",
    "spark.sql(\"show tables\").show()"
   ]
  },
  {
   "cell_type": "markdown",
   "metadata": {},
   "source": [
    "#### 按照年做数据切分，2011年的数据做训练，2012年的数据做验证"
   ]
  },
  {
   "cell_type": "code",
   "execution_count": 469,
   "metadata": {
    "collapsed": true
   },
   "outputs": [],
   "source": [
    "# CREATE TRAINING DATA AND VALIDATION DATA\n",
    "sqlStatement = \"\"\"SELECT * from joined WHERE Year = 2011\"\"\"\n",
    "train = spark.sql(sqlStatement)\n",
    "\n",
    "# REGISTER JOINED\n",
    "sqlStatement = \"\"\"SELECT * from joined WHERE Year = 2012\"\"\"\n",
    "validation = spark.sql(sqlStatement)"
   ]
  },
  {
   "cell_type": "markdown",
   "metadata": {},
   "source": [
    "#### 数据存储"
   ]
  },
  {
   "cell_type": "code",
   "execution_count": 470,
   "metadata": {},
   "outputs": [],
   "source": [
    "# SAVE JOINED DATA IN BLOB\n",
    "trainfilename = dataDir + \"TrainData\";\n",
    "train.write.mode(\"overwrite\").parquet(trainfilename)\n",
    "\n",
    "validfilename = dataDir + \"ValidationData\";\n",
    "validation.write.mode(\"overwrite\").parquet(validfilename)"
   ]
  },
  {
   "cell_type": "markdown",
   "metadata": {},
   "source": [
    "### 读取上面处理好的数据"
   ]
  },
  {
   "cell_type": "code",
   "execution_count": 3,
   "metadata": {},
   "outputs": [],
   "source": [
    "## READ IN DATA FRAME FROM CSV\n",
    "trainfilename = dataDir + \"TrainData\";\n",
    "train_df = spark.read.parquet(trainfilename)\n",
    "\n",
    "## PERSIST AND MATERIALIZE DF IN MEMORY    \n",
    "train_df.persist()\n",
    "train_df.count()\n",
    "\n",
    "## REGISTER DATA-FRAME AS A TEMP-TABLE IN SQL-CONTEXT\n",
    "train_df.createOrReplaceTempView(\"train\")"
   ]
  },
  {
   "cell_type": "code",
   "execution_count": 4,
   "metadata": {},
   "outputs": [
    {
     "name": "stdout",
     "output_type": "stream",
     "text": [
      "root\n",
      " |-- ArrDel15: string (nullable = true)\n",
      " |-- Year: integer (nullable = true)\n",
      " |-- Month: integer (nullable = true)\n",
      " |-- DayOfMonth: integer (nullable = true)\n",
      " |-- DayOfWeek: integer (nullable = true)\n",
      " |-- Carrier: string (nullable = true)\n",
      " |-- OriginAirportID: integer (nullable = true)\n",
      " |-- ORIGIN: string (nullable = true)\n",
      " |-- DestAirportID: integer (nullable = true)\n",
      " |-- DEST: string (nullable = true)\n",
      " |-- CRSDepTime: long (nullable = true)\n",
      " |-- VisibilityOrigin: double (nullable = true)\n",
      " |-- DryBulbCelsiusOrigin: double (nullable = true)\n",
      " |-- DewPointCelsiusOrigin: double (nullable = true)\n",
      " |-- RelativeHumidityOrigin: double (nullable = true)\n",
      " |-- WindSpeedOrigin: double (nullable = true)\n",
      " |-- AltimeterOrigin: double (nullable = true)\n",
      " |-- VisibilityDest: double (nullable = true)\n",
      " |-- DryBulbCelsiusDest: double (nullable = true)\n",
      " |-- DewPointCelsiusDest: double (nullable = true)\n",
      " |-- RelativeHumidityDest: double (nullable = true)\n",
      " |-- WindSpeedDest: double (nullable = true)\n",
      " |-- AltimeterDest: double (nullable = true)"
     ]
    }
   ],
   "source": [
    "train_df.printSchema()"
   ]
  },
  {
   "cell_type": "markdown",
   "metadata": {},
   "source": [
    "### 数据探索性分析"
   ]
  },
  {
   "cell_type": "markdown",
   "metadata": {},
   "source": [
    "#### 我们使用SQL做数据分析\n",
    "如果数据集比较大，我们可以做个随机采样，基本能保证采样出来的数据集分布，和原分布一致。"
   ]
  },
  {
   "cell_type": "code",
   "execution_count": 30,
   "metadata": {},
   "outputs": [],
   "source": [
    "querySQL = '''\n",
    "SELECT ArrDel15, WindSpeedDest, WindSpeedOrigin FROM train\n",
    "'''\n",
    "sqlResultsPD = spark.sql(querySQL).toPandas()"
   ]
  },
  {
   "cell_type": "markdown",
   "metadata": {},
   "source": [
    "#### 单维度分析与关联分析"
   ]
  },
  {
   "cell_type": "code",
   "execution_count": 31,
   "metadata": {},
   "outputs": [
    {
     "data": {
      "image/png": "[encoded data removed]",
      "text/plain": [
       "<matplotlib.figure.Figure at 0x7f3632b5ae50>"
      ]
     },
     "metadata": {},
     "output_type": "display_data"
    },
    {
     "data": {
      "text/plain": [
       "<matplotlib.figure.Figure at 0x7f36374d0b90>"
      ]
     },
     "metadata": {},
     "output_type": "display_data"
    },
    {
     "data": {
      "image/png": "[encoded data removed]",
      "text/plain": [
       "<matplotlib.figure.Figure at 0x7f36824e0b10>"
      ]
     },
     "metadata": {},
     "output_type": "display_data"
    },
    {
     "data": {
      "text/plain": [
       "<matplotlib.figure.Figure at 0x7f36370d51d0>"
      ]
     },
     "metadata": {},
     "output_type": "display_data"
    }
   ],
   "source": [
    "%%local\n",
    "%matplotlib inline\n",
    "import matplotlib.pyplot as plt\n",
    "## %%local creates a pandas data-frame on the head node memory, from spark data-frame, \n",
    "## which can then be used for plotting. Here, sampling data is a good idea, depending on the memory of the head node\n",
    "\n",
    "# TIP BY PAYMENT TYPE AND PASSENGER COUNT\n",
    "ax1 = sqlResultsPD[['WindSpeedDest']].plot(kind='hist', bins=25, facecolor='lightblue')\n",
    "ax1.set_title('WindSpeed @ Destination distribution')\n",
    "ax1.set_xlabel('WindSpeedDest'); ax1.set_ylabel('Counts');\n",
    "plt.figure(figsize=(4,4)); plt.suptitle(''); plt.show()\n",
    "\n",
    "# TIP BY PASSENGER COUNT\n",
    "ax2 = sqlResultsPD.boxplot(column=['WindSpeedDest'], by=['ArrDel15'])\n",
    "ax2.set_title('WindSpeed Destination')\n",
    "ax2.set_xlabel('ArrDel15'); ax2.set_ylabel('WindSpeed');\n",
    "plt.figure(figsize=(4,4)); plt.suptitle(''); plt.show()"
   ]
  },
  {
   "cell_type": "markdown",
   "metadata": {},
   "source": [
    "### 数据变换与特征工程"
   ]
  },
  {
   "cell_type": "markdown",
   "metadata": {},
   "source": [
    "#### 拆分75%的训练集和25%的测试集"
   ]
  },
  {
   "cell_type": "code",
   "execution_count": 7,
   "metadata": {},
   "outputs": [],
   "source": [
    "trainingFraction = 0.75; testingFraction = (1-trainingFraction);\n",
    "seed = 1234;\n",
    "\n",
    "# SPLIT SAMPLED DATA-FRAME INTO TRAIN/TEST, WITH A RANDOM COLUMN ADDED FOR DOING CV (SHOWN LATER)\n",
    "trainPartition, testPartition = train_df.randomSplit([trainingFraction, testingFraction], seed=seed);\n",
    "\n",
    "# CACHE DATA FRAMES IN MEMORY\n",
    "trainPartition.persist(); trainPartition.count()\n",
    "testPartition.persist(); testPartition.count()\n",
    "\n",
    "trainPartition.createOrReplaceTempView(\"TrainPartition\")\n",
    "testPartition.createOrReplaceTempView(\"TestPartition\")"
   ]
  },
  {
   "cell_type": "markdown",
   "metadata": {},
   "source": [
    "#### 过滤非空的结果，并且过滤测试集，保证测试集数据中的类别型特征取值都能被训练集覆盖"
   ]
  },
  {
   "cell_type": "code",
   "execution_count": 8,
   "metadata": {},
   "outputs": [],
   "source": [
    "## EXAMPLES BELOW ALSO SHOW HOW TO USE SQL DIRECTLY ON DATAFRAMES\n",
    "trainPartitionFilt = trainPartition.filter(\"ArrDel15 is not NULL and DayOfMonth is not NULL and DayOfWeek is not NULL \\\n",
    "                and Carrier is not NULL and OriginAirportID is not NULL and DestAirportID is not NULL \\\n",
    "                and CRSDepTime is not NULL and VisibilityOrigin is not NULL and DryBulbCelsiusOrigin is not NULL \\\n",
    "                and DewPointCelsiusOrigin is not NULL and RelativeHumidityOrigin is not NULL \\\n",
    "                and WindSpeedOrigin is not NULL and AltimeterOrigin is not NULL \\\n",
    "                and VisibilityDest is not NULL and DryBulbCelsiusDest is not NULL \\\n",
    "                and DewPointCelsiusDest is not NULL and RelativeHumidityDest is not NULL \\\n",
    "                and WindSpeedDest is not NULL and AltimeterDest is not NULL \")\n",
    "trainPartitionFilt.persist(); trainPartitionFilt.count()\n",
    "trainPartitionFilt.createOrReplaceTempView(\"TrainPartitionFilt\")\n",
    "\n",
    "testPartitionFilt = testPartition.filter(\"ArrDel15 is not NULL and DayOfMonth is not NULL and DayOfWeek is not NULL \\\n",
    "                and Carrier is not NULL and OriginAirportID is not NULL and DestAirportID is not NULL \\\n",
    "                and CRSDepTime is not NULL and VisibilityOrigin is not NULL and DryBulbCelsiusOrigin is not NULL \\\n",
    "                and DewPointCelsiusOrigin is not NULL and RelativeHumidityOrigin is not NULL \\\n",
    "                and WindSpeedOrigin is not NULL and AltimeterOrigin is not NULL \\\n",
    "                and VisibilityDest is not NULL and DryBulbCelsiusDest is not NULL \\\n",
    "                and DewPointCelsiusDest is not NULL and RelativeHumidityDest is not NULL \\\n",
    "                and WindSpeedDest is not NULL and AltimeterDest is not NULL\") \\\n",
    "                .filter(\"OriginAirportID IN (SELECT distinct OriginAirportID FROM TrainPartitionFilt) \\\n",
    "                    AND ORIGIN IN (SELECT distinct ORIGIN FROM TrainPartitionFilt) \\\n",
    "                    AND DestAirportID IN (SELECT distinct DestAirportID FROM TrainPartitionFilt) \\\n",
    "                    AND DEST IN (SELECT distinct DEST FROM TrainPartitionFilt) \\\n",
    "                    AND Carrier IN (SELECT distinct Carrier FROM TrainPartitionFilt) \\\n",
    "                    AND CRSDepTime IN (SELECT distinct CRSDepTime FROM TrainPartitionFilt) \\\n",
    "                    AND DayOfMonth in (SELECT distinct DayOfMonth FROM TrainPartitionFilt) \\\n",
    "                    AND DayOfWeek in (SELECT distinct DayOfWeek FROM TrainPartitionFilt)\")\n",
    "testPartitionFilt.persist(); testPartitionFilt.count()\n",
    "testPartitionFilt.createOrReplaceTempView(\"TestPartitionFilt\")"
   ]
  },
  {
   "cell_type": "markdown",
   "metadata": {},
   "source": [
    "#### 特征工程构建pipeline"
   ]
  },
  {
   "cell_type": "code",
   "execution_count": 9,
   "metadata": {},
   "outputs": [
    {
     "name": "stdout",
     "output_type": "stream",
     "text": [
      "213808"
     ]
    }
   ],
   "source": [
    "# TRANSFORM SOME FEATURES BASED ON MLLIB TRANSFORMATION FUNCTIONS\n",
    "from pyspark.ml import Pipeline\n",
    "from pyspark.ml.feature import StringIndexer, VectorIndexer, Bucketizer, Binarizer\n",
    "\n",
    "sI0 = StringIndexer(inputCol = 'ArrDel15', outputCol = 'ArrDel15_ind'); \n",
    "bin0 = Binarizer(inputCol = 'ArrDel15_ind', outputCol = 'ArrDel15_bin', threshold = 0.5);\n",
    "sI1 = StringIndexer(inputCol=\"Carrier\", outputCol=\"Carrier_ind\");\n",
    "transformPipeline = Pipeline(stages=[sI0, bin0, sI1]);\n",
    "\n",
    "transformedTrain = transformPipeline.fit(trainPartition).transform(trainPartitionFilt)\n",
    "transformedTest = transformPipeline.fit(trainPartition).transform(testPartitionFilt)\n",
    "\n",
    "transformedTrain.persist(); transformedTrain.count();\n",
    "transformedTest.persist(); transformedTest.count();"
   ]
  },
  {
   "cell_type": "markdown",
   "metadata": {},
   "source": [
    "### 构建模型预估是否延迟"
   ]
  },
  {
   "cell_type": "markdown",
   "metadata": {},
   "source": [
    "### 使用R变换公式对数据进行变换"
   ]
  },
  {
   "cell_type": "code",
   "execution_count": 10,
   "metadata": {
    "collapsed": true
   },
   "outputs": [],
   "source": [
    "from pyspark.ml.feature import RFormula\n",
    "\n",
    "## DEFINE REGRESSION FURMULA\n",
    "regFormula = RFormula(formula=\"ArrDel15_ind ~ \\\n",
    "                        DayOfMonth + DayOfWeek + Carrier_ind + OriginAirportID + DestAirportID + CRSDepTime \\\n",
    "                        + VisibilityOrigin + DryBulbCelsiusOrigin + DewPointCelsiusOrigin \\\n",
    "                        + RelativeHumidityOrigin + WindSpeedOrigin + AltimeterOrigin \\\n",
    "                        + VisibilityDest + DryBulbCelsiusDest + DewPointCelsiusDest \\\n",
    "                        + RelativeHumidityDest + WindSpeedDest + AltimeterDest\");\n",
    "\n",
    "## DEFINE INDEXER FOR CATEGORIAL VARIABLES\n",
    "## NOTE: Some categorical features (such as origin and destination airports have > 240 categories, which is why \n",
    "## maxCategories is set to 250)\n",
    "featureIndexer = VectorIndexer(inputCol=\"features\", outputCol=\"indexedFeatures\", maxCategories=250)"
   ]
  },
  {
   "cell_type": "markdown",
   "metadata": {},
   "source": [
    "### 使用逻辑回归建模并预测和评估"
   ]
  },
  {
   "cell_type": "code",
   "execution_count": 13,
   "metadata": {},
   "outputs": [
    {
     "name": "stdout",
     "output_type": "stream",
     "text": [
      "Area under ROC = 0.6811543852577218"
     ]
    }
   ],
   "source": [
    "from pyspark.ml.classification import LogisticRegression\n",
    "from pyspark.mllib.evaluation import BinaryClassificationMetrics\n",
    "from sklearn.metrics import roc_curve,auc\n",
    "\n",
    "## DEFINE ELASTIC NET REGRESSOR\n",
    "eNet = LogisticRegression(featuresCol=\"indexedFeatures\", maxIter=25, regParam=0.01, elasticNetParam=0.5)\n",
    "\n",
    "## TRAINING PIPELINE: Fit model, with formula and other transformations\n",
    "model = Pipeline(stages=[regFormula, featureIndexer, eNet]).fit(transformedTrain)\n",
    "\n",
    "# SAVE MODEL\n",
    "datestamp = datetime.datetime.now().strftime('%m-%d-%Y-%s');\n",
    "fileName = \"logisticRegModel_\" + datestamp;\n",
    "logRegDirfilename = modelDir + fileName;\n",
    "model.save(logRegDirfilename)\n",
    "\n",
    "## Evaluate model on test set\n",
    "predictions = model.transform(transformedTest)\n",
    "predictionAndLabels = predictions.select(\"label\",\"prediction\").rdd\n",
    "predictions.select(\"label\",\"probability\").createOrReplaceTempView(\"tmp_results\")\n",
    "\n",
    "metrics = BinaryClassificationMetrics(predictionAndLabels)\n",
    "print(\"Area under ROC = %s\" % metrics.areaUnderROC)"
   ]
  },
  {
   "cell_type": "markdown",
   "metadata": {},
   "source": [
    "#### 绘制ROC曲线"
   ]
  },
  {
   "cell_type": "code",
   "execution_count": 27,
   "metadata": {
    "collapsed": true
   },
   "outputs": [],
   "source": [
    "%%sql -q -o predictions_pddf -n -1\n",
    "SELECT label, probability from tmp_results"
   ]
  },
  {
   "cell_type": "code",
   "execution_count": 24,
   "metadata": {},
   "outputs": [
    {
     "data": {
      "image/png": "[encoded data removed]",
      "text/plain": [
       "<matplotlib.figure.Figure at 0x7f367a739b10>"
      ]
     },
     "metadata": {},
     "output_type": "display_data"
    }
   ],
   "source": [
    "%%local\n",
    "## PLOT ROC CURVE AFTER CONVERTING PREDICTIONS TO A PANDAS DATA FRAME\n",
    "from sklearn.metrics import roc_curve,auc\n",
    "import matplotlib.pyplot as plt\n",
    "%matplotlib inline\n",
    "\n",
    "labels = predictions_pddf[\"label\"]\n",
    "prob = []\n",
    "for dv in predictions_pddf[\"probability\"]:\n",
    "    prob.append(list(dv.values())[1][1])\n",
    "    \n",
    "fpr, tpr, thresholds = roc_curve(labels, prob, pos_label=1);\n",
    "roc_auc = auc(fpr, tpr)\n",
    "\n",
    "plt.figure(figsize=(5,5))\n",
    "plt.plot(fpr, tpr, label='ROC curve (area = %0.2f)' % roc_auc)\n",
    "plt.plot([0, 1], [0, 1], 'k--')\n",
    "plt.xlim([0.0, 1.0]); plt.ylim([0.0, 1.05]);\n",
    "plt.xlabel('False Positive Rate'); plt.ylabel('True Positive Rate');\n",
    "plt.title('ROC Curve'); plt.legend(loc=\"lower right\");\n",
    "plt.show()"
   ]
  },
  {
   "cell_type": "markdown",
   "metadata": {},
   "source": [
    "### 试一下Gradient Boosting Tree做二分类"
   ]
  },
  {
   "cell_type": "code",
   "execution_count": 39,
   "metadata": {},
   "outputs": [
    {
     "name": "stdout",
     "output_type": "stream",
     "text": [
      "Area under ROC = 0.7369255957114815"
     ]
    }
   ],
   "source": [
    "from pyspark.ml.regression import GBTRegressor\n",
    "\n",
    "## DEFINE GRADIENT BOOSTING TREE CLASSIFIER\n",
    "gBT = GBTRegressor(featuresCol=\"indexedFeatures\", maxIter=10, maxBins = 250)\n",
    "\n",
    "## TRAINING PIPELINE: Fit model, with formula and other transformations\n",
    "model = Pipeline(stages=[regFormula, featureIndexer, gBT]).fit(transformedTrain)\n",
    "\n",
    "# SAVE MODEL\n",
    "datestamp = datetime.datetime.now().strftime('%m-%d-%Y-%s');\n",
    "fileName = \"gbtModel_\" + datestamp;\n",
    "gbtDirfilename = modelDir + fileName;\n",
    "model.save(gbtDirfilename)\n",
    "\n",
    "## Evaluate model on test set\n",
    "predictions = model.transform(transformedTest)\n",
    "predictionAndLabels = predictions.select(\"label\",\"prediction\").rdd\n",
    "\n",
    "metrics = BinaryClassificationMetrics(predictionAndLabels)\n",
    "print(\"Area under ROC = %s\" % metrics.areaUnderROC)"
   ]
  },
  {
   "cell_type": "markdown",
   "metadata": {},
   "source": [
    "### 构建随机森林分类器"
   ]
  },
  {
   "cell_type": "code",
   "execution_count": 42,
   "metadata": {},
   "outputs": [
    {
     "name": "stdout",
     "output_type": "stream",
     "text": [
      "Area under ROC = 0.7474663414748935"
     ]
    }
   ],
   "source": [
    "from pyspark.ml.classification import RandomForestClassifier\n",
    "\n",
    "## DEFINE RANDOM FOREST CLASSIFIER\n",
    "randForest = RandomForestClassifier(featuresCol = 'indexedFeatures', labelCol = 'label', numTrees=20, \\\n",
    "                                   maxDepth=6, maxBins=250)\n",
    "\n",
    "## TRAINING PIPELINE: Fit model, with formula and other transformations\n",
    "model = Pipeline(stages=[regFormula, featureIndexer, randForest]).fit(transformedTrain)\n",
    "\n",
    "# SAVE MODEL\n",
    "datestamp = datetime.datetime.now().strftime('%m-%d-%Y-%s');\n",
    "fileName = \"rfModel_\" + datestamp;\n",
    "rfDirfilename = modelDir + fileName;\n",
    "model.save(rfDirfilename)\n",
    "\n",
    "## Evaluate model on test set\n",
    "predictions = model.transform(transformedTest)\n",
    "predictionAndLabels = predictions.select(\"label\",\"prediction\").rdd\n",
    "\n",
    "metrics = BinaryClassificationMetrics(predictionAndLabels)\n",
    "print(\"Area under ROC = %s\" % metrics.areaUnderROC)"
   ]
  },
  {
   "cell_type": "markdown",
   "metadata": {},
   "source": [
    "### 网格搜索交叉验证做超参数调优"
   ]
  },
  {
   "cell_type": "code",
   "execution_count": 44,
   "metadata": {},
   "outputs": [
    {
     "name": "stdout",
     "output_type": "stream",
     "text": [
      "Area under ROC = 0.755388760846736"
     ]
    }
   ],
   "source": [
    "from pyspark.ml.tuning import CrossValidator, ParamGridBuilder\n",
    "from pyspark.ml.evaluation import BinaryClassificationEvaluator\n",
    "\n",
    "## DEFINE RANDOM FOREST MODELS\n",
    "## DEFINE RANDOM FOREST CLASSIFIER\n",
    "randForest = RandomForestClassifier(featuresCol = 'indexedFeatures', labelCol = 'label', numTrees=20, \\\n",
    "                                   maxDepth=6, maxBins=250)\n",
    "\n",
    "\n",
    "## DEFINE MODELING PIPELINE, INCLUDING FORMULA, FEATURE TRANSFORMATIONS, AND ESTIMATOR\n",
    "pipeline = Pipeline(stages=[regFormula, featureIndexer, randForest])\n",
    "\n",
    "## DEFINE PARAMETER GRID FOR RANDOM FOREST\n",
    "paramGrid = ParamGridBuilder() \\\n",
    "    .addGrid(randForest.numTrees, [10, 25, 50]) \\\n",
    "    .addGrid(randForest.maxDepth, [3, 5, 7]) \\\n",
    "    .build()\n",
    "\n",
    "## DEFINE CROSS VALIDATION\n",
    "crossval = CrossValidator(estimator=pipeline,\n",
    "                          estimatorParamMaps=paramGrid,\n",
    "                          evaluator=BinaryClassificationEvaluator(metricName=\"areaUnderROC\"),\n",
    "                          numFolds=3)\n",
    "\n",
    "## TRAIN MODEL USING CV\n",
    "cvModel = crossval.fit(transformedTrain)\n",
    "\n",
    "## Evaluate model on test set\n",
    "predictions = cvModel.transform(transformedTest)\n",
    "predictionAndLabels = predictions.select(\"label\",\"prediction\").rdd\n",
    "metrics = BinaryClassificationMetrics(predictionAndLabels)\n",
    "print(\"Area under ROC = %s\" % metrics.areaUnderROC)\n",
    "\n",
    "## SAVE THE BEST MODEL\n",
    "datestamp = datetime.datetime.now().strftime('%m-%d-%Y-%s');\n",
    "fileName = \"CV_RandomForestRegressionModel_\" + datestamp;\n",
    "CVDirfilename = modelDir + fileName;\n",
    "cvModel.bestModel.save(CVDirfilename);"
   ]
  },
  {
   "cell_type": "markdown",
   "metadata": {},
   "source": [
    "### 加载训练好的模型，对测试集评估"
   ]
  },
  {
   "cell_type": "code",
   "execution_count": 43,
   "metadata": {},
   "outputs": [
    {
     "name": "stdout",
     "output_type": "stream",
     "text": [
      "Area under ROC = 0.6811543852577218"
     ]
    }
   ],
   "source": [
    "from pyspark.ml import PipelineModel\n",
    "\n",
    "savedModel = PipelineModel.load(logRegDirfilename)\n",
    "\n",
    "## Evaluate model on test set\n",
    "predictions = savedModel.transform(transformedTest)\n",
    "predictionAndLabels = predictions.select(\"label\",\"prediction\").rdd\n",
    "metrics = BinaryClassificationMetrics(predictionAndLabels)\n",
    "print(\"Area under ROC = %s\" % metrics.areaUnderROC)"
   ]
  }
 ],
 "metadata": {
  "anaconda-cloud": {},
  "celltoolbar": "Raw Cell Format",
  "kernelspec": {
   "display_name": "Python 3",
   "language": "python",
   "name": "python3"
  },
  "language_info": {
   "codemirror_mode": {
    "name": "ipython",
    "version": 3
   },
   "file_extension": ".py",
   "mimetype": "text/x-python",
   "name": "python",
   "nbconvert_exporter": "python",
   "pygments_lexer": "ipython3",
   "version": "3.6.1"
  },
  "toc": {
   "base_numbering": 1,
   "nav_menu": {},
   "number_sections": true,
   "sideBar": true,
   "skip_h1_title": false,
   "title_cell": "Table of Contents",
   "title_sidebar": "Contents",
   "toc_cell": false,
   "toc_position": {},
   "toc_section_display": true,
   "toc_window_display": false
  }
 },
 "nbformat": 4,
 "nbformat_minor": 1
}
